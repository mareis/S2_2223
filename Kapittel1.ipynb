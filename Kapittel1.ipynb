{
 "cells": [
  {
   "cell_type": "markdown",
   "metadata": {},
   "source": [
    "# 1.1 Følger"
   ]
  },
  {
   "cell_type": "markdown",
   "metadata": {},
   "source": [
    "## Eksempler"
   ]
  },
  {
   "cell_type": "markdown",
   "metadata": {},
   "source": [
    "### Eksempel 5\n",
    "\n",
    "En tallfølge er definert ved at hvert ledd er tre mindre enn det dobbelte av forrige ledd. Følgen starter på 4. Skriv et program i Python som skriver de ti første leddene av følgen til skjerm."
   ]
  },
  {
   "cell_type": "code",
   "execution_count": null,
   "metadata": {},
   "outputs": [],
   "source": []
  },
  {
   "cell_type": "markdown",
   "metadata": {},
   "source": []
  },
  {
   "cell_type": "markdown",
   "metadata": {},
   "source": [
    "### Eksempel 6\n",
    "\n",
    "Fibonacci-tallene er tallene i følgen \n",
    "\n",
    "            1, 1, 2, 3, 5, 8, 13, . . .\n",
    "\n",
    "a) Finn en formel for leddene i Fibonacci-følgen."
   ]
  },
  {
   "cell_type": "markdown",
   "metadata": {},
   "source": []
  },
  {
   "cell_type": "markdown",
   "metadata": {},
   "source": [
    "b) Skriv et program i Python som produserer de ti første Fibonacci-tallene."
   ]
  },
  {
   "cell_type": "code",
   "execution_count": null,
   "metadata": {},
   "outputs": [],
   "source": []
  },
  {
   "cell_type": "markdown",
   "metadata": {},
   "source": [
    "### Eksempel X1\n",
    "\n",
    "*a)* Skriv et program i Python som skriver de første 10 leddene av tallfølgen til skjerm.\n",
    "\n",
    "\n",
    "                1, 2, 4, 7, 11, ..."
   ]
  },
  {
   "cell_type": "code",
   "execution_count": null,
   "metadata": {},
   "outputs": [],
   "source": []
  },
  {
   "cell_type": "markdown",
   "metadata": {},
   "source": [
    "*b)* Skriv et program i Python som skriver alle leddene under 100 til skjerm."
   ]
  },
  {
   "cell_type": "code",
   "execution_count": null,
   "metadata": {},
   "outputs": [],
   "source": []
  },
  {
   "cell_type": "markdown",
   "metadata": {},
   "source": [
    "## Oppgaver"
   ]
  },
  {
   "cell_type": "markdown",
   "metadata": {},
   "source": [
    "### Oppgave 1.8\n",
    "\n",
    "*a)* Skriv et program i Python som skriver de første 20 leddene av tallfølgen til skjerm.\n",
    "\n",
    "\n",
    "                3, 6, 12, 24, ..."
   ]
  },
  {
   "cell_type": "code",
   "execution_count": null,
   "metadata": {},
   "outputs": [],
   "source": []
  },
  {
   "cell_type": "markdown",
   "metadata": {},
   "source": [
    "*b)* Skriv et program i Python som skriver følgens ledd til skjerm helt til følgens ledd er større enn 10 000.\n",
    "\n",
    "                2, 10, 50, 250, ..."
   ]
  },
  {
   "cell_type": "code",
   "execution_count": null,
   "metadata": {},
   "outputs": [],
   "source": []
  },
  {
   "cell_type": "markdown",
   "metadata": {},
   "source": [
    "### Oppgave 1.9\n",
    "\n",
    "En tallfølge er definert ved at $a_1=2$ og\n",
    "$a_n=2 \\cdot a_n + 1$. Skriv et program i Python som genererer de første ti leddene i følgen."
   ]
  },
  {
   "cell_type": "code",
   "execution_count": null,
   "metadata": {},
   "outputs": [],
   "source": []
  },
  {
   "cell_type": "markdown",
   "metadata": {},
   "source": [
    "### Oppgave 1.10\n",
    "\n",
    "Lucas-tallene er tallene \n",
    "\n",
    "            2, 1, 3, 4, 7, 11, 18, . . . \n",
    "            \n",
    "Skriv et program i Python som skriver ut de første 20 Lucas-tallene."
   ]
  },
  {
   "cell_type": "code",
   "execution_count": null,
   "metadata": {},
   "outputs": [],
   "source": []
  },
  {
   "cell_type": "markdown",
   "metadata": {},
   "source": [
    "### Oppgave 1.61\n",
    "\n",
    "Skriv et program i Python som kan finne ut hvor mange ganger vi må halvere 800 000 for å komme under 1."
   ]
  },
  {
   "cell_type": "code",
   "execution_count": null,
   "metadata": {},
   "outputs": [],
   "source": []
  },
  {
   "cell_type": "markdown",
   "metadata": {},
   "source": [
    "### Oppgave 1.62\n",
    "\n",
    "Skriv et program i Python som regner ut de neste leddene i en geometrisk tallfølge. Programmet skal be brukeren om $a_1$, $k$ og antall ledd."
   ]
  },
  {
   "cell_type": "code",
   "execution_count": null,
   "metadata": {},
   "outputs": [],
   "source": []
  }
 ],
 "metadata": {
  "kernelspec": {
   "display_name": "Python 3.8.9 64-bit",
   "language": "python",
   "name": "python3"
  },
  "language_info": {
   "codemirror_mode": {
    "name": "ipython",
    "version": 3
   },
   "file_extension": ".py",
   "mimetype": "text/x-python",
   "name": "python",
   "nbconvert_exporter": "python",
   "pygments_lexer": "ipython3",
   "version": "3.9.6"
  },
  "orig_nbformat": 4,
  "vscode": {
   "interpreter": {
    "hash": "31f2aee4e71d21fbe5cf8b01ff0e069b9275f58929596ceb00d14d90e3e16cd6"
   }
  }
 },
 "nbformat": 4,
 "nbformat_minor": 2
}
