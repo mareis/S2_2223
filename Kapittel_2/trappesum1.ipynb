{
 "cells": [
  {
   "cell_type": "markdown",
   "metadata": {},
   "source": [
    "# Intro til trappesummer"
   ]
  },
  {
   "cell_type": "code",
   "execution_count": 1,
   "metadata": {},
   "outputs": [],
   "source": [
    "def f(x):\n",
    "    return 2*x"
   ]
  },
  {
   "cell_type": "code",
   "execution_count": 2,
   "metadata": {},
   "outputs": [
    {
     "name": "stdout",
     "output_type": "stream",
     "text": [
      "2\n",
      "4\n"
     ]
    }
   ],
   "source": [
    "print(f(1))\n",
    "print(f(2))"
   ]
  },
  {
   "cell_type": "code",
   "execution_count": 21,
   "metadata": {},
   "outputs": [
    {
     "name": "stdout",
     "output_type": "stream",
     "text": [
      "333.334\n"
     ]
    }
   ],
   "source": [
    "def f(x):\n",
    "    return x**2\n",
    "\n",
    "bredde = 1E-5 #10**(-5)\n",
    "start = 0\n",
    "slutt = 10\n",
    "x = start\n",
    "trappesum = 0\n",
    "\n",
    "while x < slutt:\n",
    "    høyde = f(x)\n",
    "    rektangel = høyde*bredde\n",
    "    trappesum = trappesum + rektangel\n",
    "    x = x + bredde\n",
    "\n",
    "print(f\"{trappesum:.3f}\")\n"
   ]
  },
  {
   "cell_type": "code",
   "execution_count": 53,
   "metadata": {},
   "outputs": [
    {
     "name": "stdout",
     "output_type": "stream",
     "text": [
      "333.328\n"
     ]
    }
   ],
   "source": [
    "a = 0 #start\n",
    "b = 10 #slutt\n",
    "n = 10**5 #antall rektangler\n",
    "h = (b-a)/n #bredden til rektanglene (\"endringen\")\n",
    "I = 0 #trappesum (\"Integral\")\n",
    "def f(x):\n",
    "    return x**2\n",
    "\n",
    "for i in range(n):\n",
    "    x = a + i*h \n",
    "    I = I + f(x)*h \n",
    "\n",
    "print(f\"{I:.3f}\")\n"
   ]
  },
  {
   "cell_type": "markdown",
   "metadata": {},
   "source": [
    "## Oppgave 2.1"
   ]
  },
  {
   "cell_type": "code",
   "execution_count": 42,
   "metadata": {},
   "outputs": [
    {
     "name": "stdout",
     "output_type": "stream",
     "text": [
      "21.000\n"
     ]
    }
   ],
   "source": [
    "a = 0 #start\n",
    "b = 3 #slutt\n",
    "n = 10**6 #antall rektangler\n",
    "h = (b-a)/n #bredden til rektanglene (\"endringen\")\n",
    "I = 0 #trappesum (\"Integral\")\n",
    "def f(x):\n",
    "    return x**2 + 4\n",
    "\n",
    "for i in range(n):\n",
    "    x = a + i*h \n",
    "    I = I + f(x)*h \n",
    "\n",
    "print(f\"{I:.3f}\")\n"
   ]
  },
  {
   "cell_type": "markdown",
   "metadata": {},
   "source": [
    "## Oppgave 2.2"
   ]
  },
  {
   "cell_type": "code",
   "execution_count": 44,
   "metadata": {},
   "outputs": [
    {
     "name": "stdout",
     "output_type": "stream",
     "text": [
      "10.560\n"
     ]
    }
   ],
   "source": [
    "a = 0 #start\n",
    "b = 2 #slutt\n",
    "n = 10 #antall rektangler\n",
    "h = (b-a)/n #bredden til rektanglene (\"endringen\")\n",
    "I = 0 #trappesum (\"Integral\")\n",
    "def f(x):\n",
    "    return 2*x**2 + 3\n",
    "\n",
    "for i in range(n):\n",
    "    x = a + i*h \n",
    "    I = I + f(x)*h \n",
    "\n",
    "print(f\"{I:.3f}\")\n"
   ]
  },
  {
   "cell_type": "code",
   "execution_count": 45,
   "metadata": {},
   "outputs": [
    {
     "name": "stdout",
     "output_type": "stream",
     "text": [
      "11.070\n"
     ]
    }
   ],
   "source": [
    "a = 0 #start\n",
    "b = 2 #slutt\n",
    "n = 30 #antall rektangler\n",
    "h = (b-a)/n #bredden til rektanglene (\"endringen\")\n",
    "I = 0 #trappesum (\"Integral\")\n",
    "def f(x):\n",
    "    return 2*x**2 + 3\n",
    "\n",
    "for i in range(n):\n",
    "    x = a + i*h \n",
    "    I = I + f(x)*h \n",
    "\n",
    "print(f\"{I:.3f}\")\n"
   ]
  },
  {
   "cell_type": "code",
   "execution_count": 46,
   "metadata": {},
   "outputs": [
    {
     "name": "stdout",
     "output_type": "stream",
     "text": [
      "11.245\n"
     ]
    }
   ],
   "source": [
    "a = 0 #start\n",
    "b = 2 #slutt\n",
    "n = 90 #antall rektangler\n",
    "h = (b-a)/n #bredden til rektanglene (\"endringen\")\n",
    "I = 0 #trappesum (\"Integral\")\n",
    "def f(x):\n",
    "    return 2*x**2 + 3\n",
    "\n",
    "for i in range(n):\n",
    "    x = a + i*h \n",
    "    I = I + f(x)*h \n",
    "\n",
    "print(f\"{I:.3f}\")\n"
   ]
  },
  {
   "cell_type": "markdown",
   "metadata": {},
   "source": [
    "## Oppgave 2.3"
   ]
  },
  {
   "cell_type": "code",
   "execution_count": 48,
   "metadata": {},
   "outputs": [
    {
     "name": "stdout",
     "output_type": "stream",
     "text": [
      "28.635\n"
     ]
    }
   ],
   "source": [
    "a = 1 #start\n",
    "b = 3 #slutt\n",
    "n = 1000 #antall rektangler\n",
    "h = (b-a)/n #bredden til rektanglene (\"endringen\")\n",
    "I = 0 #trappesum (\"Integral\")\n",
    "def g(x):\n",
    "    return 4*x**2 - 3\n",
    "\n",
    "for i in range(n):\n",
    "    x = a + i*h \n",
    "    I = I + g(x)*h \n",
    "\n",
    "print(f\"{I:.3f}\")\n"
   ]
  },
  {
   "cell_type": "code",
   "execution_count": 2,
   "metadata": {},
   "outputs": [
    {
     "name": "stdout",
     "output_type": "stream",
     "text": [
      "333.325\n"
     ]
    }
   ],
   "source": [
    "a = 0 #start\n",
    "b = 10 #slutt\n",
    "n = 100 #antall rektangler\n",
    "h = (b-a)/n #bredden til rektanglene (\"endringen\")\n",
    "I = 0 #trappesum (\"Integral\")\n",
    "def f(x):\n",
    "    return x**2\n",
    "\n",
    "for i in range(n):\n",
    "    x = a + i*h + h/2 \n",
    "    I = I + f(x)*h \n",
    "\n",
    "print(f\"{I:.3f}\")\n"
   ]
  },
  {
   "cell_type": "code",
   "execution_count": 5,
   "metadata": {},
   "outputs": [
    {
     "name": "stdout",
     "output_type": "stream",
     "text": [
      "333.333\n"
     ]
    }
   ],
   "source": [
    "a = 0 #start\n",
    "b = 10 #slutt\n",
    "n = 1000 #antall rektangler\n",
    "delta_x = (b-a)/n #bredden til rektanglene (\"endringen\")\n",
    "I = 0 #trappesum (\"Integral\")\n",
    "def f(x):\n",
    "    return x**2\n",
    "\n",
    "for i in range(n):\n",
    "    x = a + i*delta_x + delta_x/2 #Argumentet for å finne høyden f(argument)\n",
    "    I = I + f(x)*delta_x  #Areal under graf (nummerisk integrasjon)\n",
    "\n",
    "print(f\"{I:.3f}\")"
   ]
  },
  {
   "cell_type": "code",
   "execution_count": 9,
   "metadata": {},
   "outputs": [
    {
     "name": "stdout",
     "output_type": "stream",
     "text": [
      "6.675\n"
     ]
    }
   ],
   "source": [
    "a = -1.5 #start\n",
    "b = 1.5 #slutt\n",
    "n = 100 #antall rektangler\n",
    "h = (b-a)/n #bredden til rektanglene (\"endringen\")\n",
    "I = 0 #trappesum (\"Integral\")\n",
    "def f(x):\n",
    "    return -x**3 + 0.3*x**2 + x + 2\n",
    "\n",
    "for i in range(n):\n",
    "    x = a + i*h + h/2 #argumentet til funksjonen\n",
    "    I = I + f(x)*h #Trappesummen\n",
    "\n",
    "print(f\"{I:.3f}\")"
   ]
  },
  {
   "cell_type": "code",
   "execution_count": 10,
   "metadata": {},
   "outputs": [
    {
     "name": "stdout",
     "output_type": "stream",
     "text": [
      "6.675\n"
     ]
    }
   ],
   "source": [
    "a = -1.5 #start\n",
    "b = 1.5 #slutt\n",
    "n = 100 #antall rektangler\n",
    "delta_x = (b-a)/n #bredden til rektanglene (\"endringen\")\n",
    "I = 0 #trappesum (\"Integral\")\n",
    "def f(x):\n",
    "    return -x**3 + 0.3*x**2 + x + 2\n",
    "\n",
    "for i in range(n):\n",
    "    x = a + i*delta_x + delta_x/2 #argumentet til funksjonen\n",
    "    I = I + f(x)*delta_x #Trappesummen\n",
    "\n",
    "print(f\"{I:.3f}\")"
   ]
  },
  {
   "cell_type": "code",
   "execution_count": null,
   "metadata": {},
   "outputs": [],
   "source": []
  }
 ],
 "metadata": {
  "kernelspec": {
   "display_name": "Python 3.10.6 64-bit",
   "language": "python",
   "name": "python3"
  },
  "language_info": {
   "codemirror_mode": {
    "name": "ipython",
    "version": 3
   },
   "file_extension": ".py",
   "mimetype": "text/x-python",
   "name": "python",
   "nbconvert_exporter": "python",
   "pygments_lexer": "ipython3",
   "version": "3.10.6"
  },
  "orig_nbformat": 4,
  "vscode": {
   "interpreter": {
    "hash": "aee8b7b246df8f9039afb4144a1f6fd8d2ca17a180786b69acc140d282b71a49"
   }
  }
 },
 "nbformat": 4,
 "nbformat_minor": 2
}
