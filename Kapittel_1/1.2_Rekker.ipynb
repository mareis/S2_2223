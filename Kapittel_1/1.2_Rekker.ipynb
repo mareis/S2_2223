{
 "cells": [
  {
   "cell_type": "markdown",
   "metadata": {},
   "source": [
    "# 1.2 Rekker\n",
    "\n",
    "## Eksempler"
   ]
  },
  {
   "cell_type": "markdown",
   "metadata": {},
   "source": [
    "### Eksempel \n",
    "\n",
    "En tallfølge er definert ved at hvert ledd er tre mindre enn det dobbelte av forrige ledd. Følgen starter på 4. Skriv et program i Python som skriver de ti første leddene av følgen til skjerm. \n",
    "\n",
    "Rekursiv sammenheng:\n",
    "\n",
    "$a_1 = 4$\n",
    "\n",
    "$a_n = 2 \\cdot a_{n-1} - 3$"
   ]
  },
  {
   "cell_type": "code",
   "execution_count": null,
   "metadata": {},
   "outputs": [],
   "source": []
  },
  {
   "cell_type": "markdown",
   "metadata": {},
   "source": [
    "Bestem summen av de 10 første leddene.\n",
    "\n",
    "#### Rekker\n",
    "\n",
    "$s_1 = a_1$\n",
    "\n",
    "$s_2 = a_1 + a_2$\n",
    "\n",
    "$s_3 = a_1 + a_2 + a_3$\n",
    "\n",
    "\n",
    "$s_n = a_1 + a_2 + \\cdots + a_n$"
   ]
  },
  {
   "cell_type": "code",
   "execution_count": null,
   "metadata": {},
   "outputs": [],
   "source": []
  },
  {
   "cell_type": "markdown",
   "metadata": {},
   "source": [
    "\n",
    "### Eksempel 7\n",
    "\n",
    "En rekke er gitt ved $3+7+11+15+\\cdots+59$.\n",
    "\n",
    "$a)$ Vis at rekka er aritmetisk.\n"
   ]
  },
  {
   "cell_type": "code",
   "execution_count": null,
   "metadata": {},
   "outputs": [],
   "source": []
  },
  {
   "cell_type": "markdown",
   "metadata": {},
   "source": [
    "*b)* Bestem summen av rekka.\n"
   ]
  },
  {
   "cell_type": "code",
   "execution_count": null,
   "metadata": {},
   "outputs": [],
   "source": []
  },
  {
   "cell_type": "markdown",
   "metadata": {},
   "source": [
    "*c)* Vi utvider rekka med flere ledd. Hvor mange ledd må rekka minst bestå av for at summen skal bli over 1000?"
   ]
  },
  {
   "cell_type": "code",
   "execution_count": null,
   "metadata": {},
   "outputs": [],
   "source": []
  },
  {
   "cell_type": "markdown",
   "metadata": {},
   "source": [
    "### Eksempel 8\n",
    "\n",
    "En geometrisk rekke har første ledd $a_1 = 32$ og kvotient $k=\\frac{1}{2}$. Finn summen av de seks første leddene i rekka."
   ]
  },
  {
   "cell_type": "code",
   "execution_count": null,
   "metadata": {},
   "outputs": [],
   "source": []
  },
  {
   "cell_type": "markdown",
   "metadata": {},
   "source": [
    "### Eksempel 9\n",
    "\n",
    "En geometrisk følge er gitt ved at følgens første ledd er 3 og forholdet mellom to ledd som følger etter hverandre, er 2. Kan vi få 3069 ved å summere leddene i følgen?"
   ]
  },
  {
   "cell_type": "code",
   "execution_count": null,
   "metadata": {},
   "outputs": [],
   "source": []
  },
  {
   "cell_type": "markdown",
   "metadata": {},
   "source": [
    "### Eksempel 10\n",
    "\n",
    "Oliver er 27 år, nyutdannet og skal begynne i sin første jobb.\n",
    "Han har tenkt å ha samme jobb helt til han er pensjonist om 40 år.\n",
    "Oliver får en begynnerlønn på 500 000 kr per år. Han får to tilbud om lønnsutvikling:\n",
    "\n",
    "- Tilbud A 12 000 i tillegg hvert år\n",
    "- Tilbud B 2 % tillegg hvert år\n",
    "\n",
    "Hvilket av de to tilbudene gir størst livslønn?"
   ]
  },
  {
   "cell_type": "code",
   "execution_count": null,
   "metadata": {},
   "outputs": [],
   "source": []
  },
  {
   "cell_type": "markdown",
   "metadata": {},
   "source": [
    "## Oppgaver\n",
    "\n",
    "### Oppgave 1.11\n",
    "\n",
    "En aritmetisk rekke har $a_1=-4$ og differanse $d=7$.\n",
    "\n",
    "*a)* Bestem summen av de 20 første leddene\n",
    "i rekka"
   ]
  },
  {
   "cell_type": "code",
   "execution_count": null,
   "metadata": {},
   "outputs": [],
   "source": []
  },
  {
   "cell_type": "markdown",
   "metadata": {},
   "source": [
    "*b)* Hvor mange ledd må rekka inneholde for at summen skal bli over 10 000?"
   ]
  },
  {
   "cell_type": "code",
   "execution_count": null,
   "metadata": {},
   "outputs": [],
   "source": []
  },
  {
   "cell_type": "markdown",
   "metadata": {},
   "source": [
    "### Oppgave 1.12\n",
    "\n",
    "En rekke er gitt ved $-3+1+5+9+...$\n",
    "\n",
    "*a)* Vis at rekka er aritmetisk."
   ]
  },
  {
   "cell_type": "code",
   "execution_count": null,
   "metadata": {},
   "outputs": [],
   "source": []
  },
  {
   "cell_type": "markdown",
   "metadata": {},
   "source": [
    "*b)* Bestem summen av de sju første leddene, altså $s_7$, uten digitalt verktøy."
   ]
  },
  {
   "cell_type": "code",
   "execution_count": null,
   "metadata": {},
   "outputs": [],
   "source": []
  },
  {
   "cell_type": "markdown",
   "metadata": {},
   "source": [
    "*c)* Hvor mange ledd må vi minst ha med i rekka for at summen skal bli over 600?"
   ]
  },
  {
   "cell_type": "code",
   "execution_count": null,
   "metadata": {},
   "outputs": [],
   "source": []
  },
  {
   "cell_type": "markdown",
   "metadata": {},
   "source": [
    "### Oppgave 1.13\n",
    "\n",
    "I en aritmetisk rekke er $a_1 = 2$ og $s_8 = 212$.\n",
    "\n",
    "*a)* Bestem et uttrykk for det n-te leddet i rekka, $a_n$."
   ]
  },
  {
   "cell_type": "markdown",
   "metadata": {},
   "source": []
  },
  {
   "cell_type": "markdown",
   "metadata": {},
   "source": [
    "*b)* Bestem et uttrykk for summen av de n første leddene i rekka, $s_n$."
   ]
  },
  {
   "cell_type": "code",
   "execution_count": null,
   "metadata": {},
   "outputs": [],
   "source": []
  },
  {
   "cell_type": "markdown",
   "metadata": {},
   "source": [
    "### Oppgave 1.14\n",
    "\n",
    "Et firma lyser ut en stilling med 500 000 kr i årslønn første år. Hvert år øker de lønna med 5 %.\n",
    "\n",
    "Hvor mye tjener Vartika om hun jobber i firmaet i 40 år?"
   ]
  },
  {
   "cell_type": "code",
   "execution_count": null,
   "metadata": {},
   "outputs": [],
   "source": []
  },
  {
   "cell_type": "markdown",
   "metadata": {},
   "source": [
    "### Oppgave 1.15\n",
    "\n",
    "Vi har rekka\n",
    "$20+10+5+\\frac{5}{2}+ \\cdots +\\frac{5}{128}$\n",
    "\n",
    "*a)* Bestem summen av rekka."
   ]
  },
  {
   "cell_type": "code",
   "execution_count": null,
   "metadata": {},
   "outputs": [],
   "source": []
  },
  {
   "cell_type": "markdown",
   "metadata": {},
   "source": [
    "*b)* Hvor mange ledd trenger vi for at summen\n",
    "av rekka skal bli større enn 38?"
   ]
  },
  {
   "cell_type": "code",
   "execution_count": null,
   "metadata": {},
   "outputs": [],
   "source": []
  },
  {
   "cell_type": "markdown",
   "metadata": {},
   "source": [
    "### Oppgave 1.16\n",
    "\n",
    "En rekke er gitt som $4+12+36+108+324+972+2916+\\cdots$.  Stine påstår at hvis vi stopper etter et passende antall ledd, så blir summen av rekka 39 364. Markus mener det ikke er mulig. Hvem har rett?"
   ]
  },
  {
   "cell_type": "code",
   "execution_count": null,
   "metadata": {},
   "outputs": [],
   "source": []
  },
  {
   "cell_type": "markdown",
   "metadata": {},
   "source": [
    "### Oppgave 1.17\n",
    "\n",
    "Noen kobberrør ligger i en stabel. I nederste rad er\n",
    "det 24 rør. I hver rad er det ett rør færre enn i raden\n",
    "under. I øverste rad er det 14 rør.\n",
    "\n",
    "Hvor mange rør ligger det i stabelen?"
   ]
  },
  {
   "cell_type": "code",
   "execution_count": null,
   "metadata": {},
   "outputs": [],
   "source": []
  },
  {
   "cell_type": "markdown",
   "metadata": {},
   "source": [
    "### Oppgave 1.64\n",
    "\n",
    "En rekke er gitt ved $2+6+10+\\cdots+42$.\n",
    "\n",
    "*a)* Hva kaller vi en slik rekke, og hva kjennetegner den?\n"
   ]
  },
  {
   "cell_type": "markdown",
   "metadata": {},
   "source": []
  },
  {
   "cell_type": "markdown",
   "metadata": {},
   "source": [
    "*b)* Finn et uttrykk for det n-te leddet i denne rekka.\n",
    "\n"
   ]
  },
  {
   "cell_type": "markdown",
   "metadata": {},
   "source": []
  },
  {
   "cell_type": "markdown",
   "metadata": {},
   "source": [
    "*c)* Finn summen av rekka."
   ]
  },
  {
   "cell_type": "code",
   "execution_count": null,
   "metadata": {},
   "outputs": [],
   "source": []
  },
  {
   "cell_type": "markdown",
   "metadata": {},
   "source": [
    "### Oppgave 1.71\n",
    "\n",
    "Tante Margit oppretter en hemmelig konto for nevøen sin når han blir født, og setter inn 10 000 kr. Hvert år setter hun inn et nytt beløp, 10 % større enn året før. Renta på bankkontoen er 3 % hele tiden. Etter inn- betalingen på 18-årsdagen får nevøen kontoen.\n",
    "\n",
    "Hvor mye står det på kontoen da?"
   ]
  },
  {
   "cell_type": "code",
   "execution_count": null,
   "metadata": {},
   "outputs": [],
   "source": []
  }
 ],
 "metadata": {
  "kernelspec": {
   "display_name": "Python 3.8.9 64-bit",
   "language": "python",
   "name": "python3"
  },
  "language_info": {
   "codemirror_mode": {
    "name": "ipython",
    "version": 3
   },
   "file_extension": ".py",
   "mimetype": "text/x-python",
   "name": "python",
   "nbconvert_exporter": "python",
   "pygments_lexer": "ipython3",
   "version": "3.8.9"
  },
  "orig_nbformat": 4,
  "vscode": {
   "interpreter": {
    "hash": "31f2aee4e71d21fbe5cf8b01ff0e069b9275f58929596ceb00d14d90e3e16cd6"
   }
  }
 },
 "nbformat": 4,
 "nbformat_minor": 2
}
