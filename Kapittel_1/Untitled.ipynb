{
 "cells": [
  {
   "cell_type": "code",
   "execution_count": 5,
   "id": "78de000c-6219-4f35-a1ee-6cdff1bf644a",
   "metadata": {},
   "outputs": [
    {
     "data": {
      "text/plain": [
       "472582606"
      ]
     },
     "execution_count": 5,
     "metadata": {},
     "output_type": "execute_result"
    }
   ],
   "source": [
    "def f(n):\n",
    "    if n == 1:\n",
    "        return 4\n",
    "    elif n == 2:\n",
    "        return 5\n",
    "    \n",
    "    return f(n-1) + f(n-2)\n",
    "\n",
    "f(40)"
   ]
  },
  {
   "cell_type": "code",
   "execution_count": 8,
   "id": "08f1cb71-4b56-4731-b859-b12e3a98e981",
   "metadata": {},
   "outputs": [
    {
     "name": "stdout",
     "output_type": "stream",
     "text": [
      "40 472582606\n"
     ]
    }
   ],
   "source": [
    "a = 4\n",
    "b = 5\n",
    "\n",
    "for n in range(3,41):\n",
    "    c = a + b\n",
    "    a = b\n",
    "    b = c\n",
    "\n",
    "print(n, c)    "
   ]
  },
  {
   "cell_type": "code",
   "execution_count": 9,
   "id": "fcfff144-bdbc-492f-ba52-dce74bb97d8e",
   "metadata": {},
   "outputs": [
    {
     "name": "stdout",
     "output_type": "stream",
     "text": [
      "40 1237237320\n"
     ]
    }
   ],
   "source": [
    "a = 4\n",
    "b = 5\n",
    "sum = a+b\n",
    "for n in range(3,41):\n",
    "    c = a + b\n",
    "    a = b\n",
    "    b = c\n",
    "    sum += c\n",
    "\n",
    "print(n, sum) "
   ]
  },
  {
   "cell_type": "code",
   "execution_count": null,
   "id": "9d297878-f456-4fa1-829c-4bda0f4cbe1b",
   "metadata": {},
   "outputs": [],
   "source": []
  }
 ],
 "metadata": {
  "kernelspec": {
   "display_name": "Python 3 (ipykernel)",
   "language": "python",
   "name": "python3"
  },
  "language_info": {
   "codemirror_mode": {
    "name": "ipython",
    "version": 3
   },
   "file_extension": ".py",
   "mimetype": "text/x-python",
   "name": "python",
   "nbconvert_exporter": "python",
   "pygments_lexer": "ipython3",
   "version": "3.8.13"
  }
 },
 "nbformat": 4,
 "nbformat_minor": 5
}
