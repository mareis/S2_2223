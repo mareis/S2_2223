{
 "cells": [
  {
   "cell_type": "markdown",
   "metadata": {},
   "source": [
    "# Prøve 1\n",
    "\n",
    "## Oppgave 6"
   ]
  },
  {
   "cell_type": "code",
   "execution_count": 7,
   "metadata": {},
   "outputs": [
    {
     "name": "stdout",
     "output_type": "stream",
     "text": [
      "124232.53 kr\n"
     ]
    }
   ],
   "source": [
    "innskudd = 5000\n",
    "vf = 1.003\n",
    "saldo = 0\n",
    "\n",
    "for mnd in range(1,24):\n",
    "    saldo = (saldo + innskudd)*vf\n",
    "    \n",
    "saldo = saldo +innskudd #Det 24. innskuddet\n",
    "\n",
    "print(f'{saldo:.2f} kr')"
   ]
  },
  {
   "cell_type": "markdown",
   "metadata": {},
   "source": [
    "## Oppgave 7"
   ]
  },
  {
   "cell_type": "code",
   "execution_count": 9,
   "metadata": {},
   "outputs": [
    {
     "name": "stdout",
     "output_type": "stream",
     "text": [
      "1 1\n",
      "2 3\n",
      "3 9\n",
      "4 27\n",
      "5 81\n",
      "6 243\n",
      "7 729\n",
      "8 2187\n",
      "9 6561\n",
      "10 19683\n",
      "11 59049\n",
      "12 177147\n",
      "13 531441\n",
      "14 1594323\n",
      "15 4782969\n"
     ]
    }
   ],
   "source": [
    "a = 1\n",
    "print(1, a)\n",
    "for n in range(2,16):\n",
    "    a = 3*a\n",
    "    print(n, a)"
   ]
  },
  {
   "cell_type": "code",
   "execution_count": 11,
   "metadata": {},
   "outputs": [
    {
     "name": "stdout",
     "output_type": "stream",
     "text": [
      "6.863038E+13\n"
     ]
    }
   ],
   "source": [
    "a = 1\n",
    "sum = a\n",
    "for n in range(2,31):\n",
    "    a = 3*a\n",
    "    sum = sum + a\n",
    "\n",
    "print(f'{a:E}')\n"
   ]
  },
  {
   "cell_type": "markdown",
   "metadata": {},
   "source": []
  },
  {
   "cell_type": "code",
   "execution_count": null,
   "metadata": {},
   "outputs": [],
   "source": []
  }
 ],
 "metadata": {
  "kernelspec": {
   "display_name": "Python 3.10.6 64-bit",
   "language": "python",
   "name": "python3"
  },
  "language_info": {
   "codemirror_mode": {
    "name": "ipython",
    "version": 3
   },
   "file_extension": ".py",
   "mimetype": "text/x-python",
   "name": "python",
   "nbconvert_exporter": "python",
   "pygments_lexer": "ipython3",
   "version": "3.10.6"
  },
  "orig_nbformat": 4,
  "vscode": {
   "interpreter": {
    "hash": "aee8b7b246df8f9039afb4144a1f6fd8d2ca17a180786b69acc140d282b71a49"
   }
  }
 },
 "nbformat": 4,
 "nbformat_minor": 2
}
