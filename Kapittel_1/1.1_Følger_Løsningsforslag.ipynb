{
 "cells": [
  {
   "cell_type": "markdown",
   "metadata": {},
   "source": [
    "# 1.1 Følger"
   ]
  },
  {
   "cell_type": "markdown",
   "metadata": {},
   "source": [
    "## Eksempler"
   ]
  },
  {
   "cell_type": "markdown",
   "metadata": {},
   "source": [
    "### Eksempel 5\n",
    "\n",
    "En tallfølge er definert ved at hvert ledd er tre mindre enn det dobbelte av forrige ledd. Følgen starter på 4. Skriv et program i Python som skriver de ti første leddene av følgen til skjerm.\n",
    "\n",
    "Rekursiv sammenheng:\n",
    "\n",
    "$a_1 = 4$\n",
    "\n",
    "$a_n = 2 \\cdot a_{n-1} - 3$"
   ]
  },
  {
   "cell_type": "code",
   "execution_count": 2,
   "metadata": {},
   "outputs": [
    {
     "name": "stdout",
     "output_type": "stream",
     "text": [
      "4, 5, 7, 11, 19, 35, 67, 131, 259, 515, "
     ]
    }
   ],
   "source": [
    "a = 4\n",
    "\n",
    "for n in range(10):\n",
    "    print(a, end=', ')\n",
    "    a = 2*a - 3"
   ]
  },
  {
   "cell_type": "markdown",
   "metadata": {},
   "source": [
    "### Eksempel 6\n",
    "\n",
    "Fibonacci-tallene er tallene i følgen \n",
    "\n",
    "            1, 1, 2, 3, 5, 8, 13, . . .\n",
    "\n",
    "a) Finn en formel for leddene i Fibonacci-følgen."
   ]
  },
  {
   "cell_type": "markdown",
   "metadata": {},
   "source": [
    "Rekursiv sammenheng:\n",
    "\n",
    "$a_1 = a_2 = 1$\n",
    "\n",
    "$a_n = a_{n-1} + a_{n-2}$"
   ]
  },
  {
   "cell_type": "markdown",
   "metadata": {},
   "source": [
    "b) Skriv et program i Python som produserer de ti første Fibonacci-tallene."
   ]
  },
  {
   "cell_type": "code",
   "execution_count": 3,
   "metadata": {},
   "outputs": [
    {
     "name": "stdout",
     "output_type": "stream",
     "text": [
      "1, 1, 2, 3, 5, 8, 13, 21, 34, "
     ]
    }
   ],
   "source": [
    "a = 1\n",
    "b = 1\n",
    "\n",
    "print(a, end=', ')\n",
    "\n",
    "for n in range(8):\n",
    "    print(a, end=', ')\n",
    "    c = a\n",
    "    a = a + b\n",
    "    b = c"
   ]
  },
  {
   "cell_type": "markdown",
   "metadata": {},
   "source": [
    "### Eksempel X1\n",
    "\n",
    "*a)* Skriv et program i Python som skriver de første 10 leddene av tallfølgen til skjerm.\n",
    "\n",
    "\n",
    "                1, 2, 4, 7, 11, ..."
   ]
  },
  {
   "cell_type": "markdown",
   "metadata": {},
   "source": [
    "Rekursiv sammenheng: \n",
    "\n",
    "$a_1 = 1$\n",
    "\n",
    "$a_n = a_{n-1} + n - 1$"
   ]
  },
  {
   "cell_type": "code",
   "execution_count": 4,
   "metadata": {},
   "outputs": [
    {
     "name": "stdout",
     "output_type": "stream",
     "text": [
      "1, 2, 4, 7, 11, 16, 22, 29, 37, 46, "
     ]
    }
   ],
   "source": [
    "a = 1\n",
    "\n",
    "for n in range(2, 12):\n",
    "    print(a, end=', ')\n",
    "    a = a + n - 1"
   ]
  },
  {
   "cell_type": "markdown",
   "metadata": {},
   "source": [
    "*b)* Skriv et program i Python som skriver alle leddene under 100 til skjerm."
   ]
  },
  {
   "cell_type": "code",
   "execution_count": 5,
   "metadata": {},
   "outputs": [
    {
     "name": "stdout",
     "output_type": "stream",
     "text": [
      "1, 2, 4, 7, 11, 16, 22, 29, 37, 46, 56, 67, 79, 92, "
     ]
    }
   ],
   "source": [
    "#Alternativ 1\n",
    "\n",
    "a = 1\n",
    "\n",
    "for n in range(2, 22):\n",
    "    if a >= 100:\n",
    "        break\n",
    "    \n",
    "    print(a, end=', ')\n",
    "    a = a + n - 1\n"
   ]
  },
  {
   "cell_type": "code",
   "execution_count": 6,
   "metadata": {},
   "outputs": [
    {
     "name": "stdout",
     "output_type": "stream",
     "text": [
      "1, 2, 4, 7, 11, 16, 22, 29, 37, 46, 56, 67, 79, 92, "
     ]
    }
   ],
   "source": [
    "#Alternativ 2\n",
    "\n",
    "a = 1\n",
    "n = 2\n",
    "\n",
    "while a < 100:\n",
    "    print(a, end=', ')\n",
    "    a = a + n - 1\n",
    "    n = n + 1"
   ]
  },
  {
   "cell_type": "markdown",
   "metadata": {},
   "source": [
    "## Oppgaver"
   ]
  },
  {
   "cell_type": "markdown",
   "metadata": {},
   "source": [
    "### Oppgave 1.8\n",
    "\n",
    "*a)* Skriv et program i Python som skriver de første 20 leddene av tallfølgen til skjerm.\n",
    "\n",
    "\n",
    "                3, 6, 12, 24, ..."
   ]
  },
  {
   "cell_type": "markdown",
   "metadata": {},
   "source": [
    "Rekursiv sammenheng: \n",
    "\n",
    "$a_n = 2 \\cdot a_{n-1} $"
   ]
  },
  {
   "cell_type": "code",
   "execution_count": 7,
   "metadata": {},
   "outputs": [
    {
     "name": "stdout",
     "output_type": "stream",
     "text": [
      "3, 6, 12, 24, 48, 96, 192, 384, 768, 1536, 3072, 6144, 12288, 24576, 49152, 98304, 196608, 393216, 786432, 1572864, "
     ]
    }
   ],
   "source": [
    "a = 3\n",
    "\n",
    "for n in range(20):\n",
    "    print(a, end=', ')\n",
    "    a = 2*a"
   ]
  },
  {
   "cell_type": "markdown",
   "metadata": {},
   "source": [
    "*b)* Skriv et program i Python som skriver følgens ledd til skjerm helt til følgens ledd er større enn 10 000.\n",
    "\n",
    "                2, 10, 50, 250, ..."
   ]
  },
  {
   "cell_type": "markdown",
   "metadata": {},
   "source": [
    "Rekursiv sammenheng: \n",
    "\n",
    "$a_1 = 2$\n",
    "\n",
    "$a_n = 5 \\cdot a_{n-1}$"
   ]
  },
  {
   "cell_type": "code",
   "execution_count": 8,
   "metadata": {},
   "outputs": [
    {
     "name": "stdout",
     "output_type": "stream",
     "text": [
      "2, 10, 50, 250, 1250, 6250, 31250, 156250, "
     ]
    }
   ],
   "source": [
    "a = 2\n",
    "print(a, end=', ')\n",
    "\n",
    "n = 1\n",
    "while a < 100000:\n",
    "    a = 5 * a\n",
    "    print(a, end=', ')\n",
    "    n = n + 1"
   ]
  },
  {
   "cell_type": "markdown",
   "metadata": {},
   "source": [
    "### Oppgave 1.9\n",
    "\n",
    "En tallfølge er definert ved at $a_1=2$ og\n",
    "$a_n=2 \\cdot a_n + 1$. Skriv et program i Python som genererer de første ti leddene i følgen."
   ]
  },
  {
   "cell_type": "code",
   "execution_count": 9,
   "metadata": {},
   "outputs": [
    {
     "name": "stdout",
     "output_type": "stream",
     "text": [
      "2, 5, 11, 23, 47, 95, 191, 383, 767, 1535, "
     ]
    }
   ],
   "source": [
    "a = 2\n",
    "\n",
    "for n in range(10):\n",
    "    print(a, end=', ')\n",
    "    a = 2 * a + 1"
   ]
  },
  {
   "cell_type": "markdown",
   "metadata": {},
   "source": [
    "### Oppgave 1.10\n",
    "\n",
    "Lucas-tallene er tallene \n",
    "\n",
    "            2, 1, 3, 4, 7, 11, 18, . . . \n",
    "            \n",
    "Skriv et program i Python som skriver ut de første 20 Lucas-tallene.\n",
    "\n",
    "\n",
    "Rekursiv sammenheng: \n",
    "\n",
    "$a_1 = 2$\n",
    "$a_2 = 1$\n",
    "\n",
    "$a_n = a_{n-1} + a_{n-2}$"
   ]
  },
  {
   "cell_type": "code",
   "execution_count": 1,
   "metadata": {},
   "outputs": [
    {
     "name": "stdout",
     "output_type": "stream",
     "text": [
      "2, 1, 3, 4, 5, 6, 7, 8, 9, 10, 11, 12, 13, 14, 15, 16, 17, 18, 19, 20, "
     ]
    }
   ],
   "source": [
    "a = 2\n",
    "b = 1\n",
    "print(a, end=', ')\n",
    "print(b, end=', ')\n",
    "\n",
    "for n in range(18):\n",
    "    c = b\n",
    "    a = a + b\n",
    "    print(a, end=', ')\n",
    "    b = c"
   ]
  },
  {
   "cell_type": "markdown",
   "metadata": {},
   "source": [
    "### Oppgave 1.61\n",
    "\n",
    "Skriv et program i Python som kan finne ut hvor mange ganger vi må halvere 800 000 for å komme under 1."
   ]
  },
  {
   "cell_type": "code",
   "execution_count": 11,
   "metadata": {},
   "outputs": [
    {
     "name": "stdout",
     "output_type": "stream",
     "text": [
      "400000.0, 200000.0, 100000.0, 50000.0, 25000.0, 12500.0, 6250.0, 3125.0, 1562.5, 781.25, 390.625, 195.3125, 97.65625, 48.828125, 24.4140625, 12.20703125, 6.103515625, 3.0517578125, 1.52587890625, 0.762939453125, \n",
      "\n",
      "20 ganger\n"
     ]
    }
   ],
   "source": [
    "a = 800000\n",
    "n = 0\n",
    "\n",
    "while a >= 1:\n",
    "    a = a/2\n",
    "    n = n + 1\n",
    "    print(a, end=', ')\n",
    "\n",
    "print('\\n')\n",
    "print(n, \"ganger\")"
   ]
  },
  {
   "cell_type": "markdown",
   "metadata": {},
   "source": [
    "### Oppgave 1.62\n",
    "\n",
    "Skriv et program i Python som regner ut de neste leddene i en geometrisk tallfølge. Programmet skal be brukeren om $a_1$, $k$ og antall ledd."
   ]
  },
  {
   "cell_type": "code",
   "execution_count": 12,
   "metadata": {},
   "outputs": [
    {
     "name": "stdout",
     "output_type": "stream",
     "text": [
      "2, 6, 54, 1458, 118098, 28697814, 20920706406, "
     ]
    }
   ],
   "source": [
    "# Kan bruk input()\n",
    "\n",
    "a = 2\n",
    "k = 3\n",
    "N = 7\n",
    "\n",
    "for n in range(N):\n",
    "    a = a * k**n\n",
    "    print(a, end=', ')"
   ]
  },
  {
   "cell_type": "code",
   "execution_count": null,
   "metadata": {},
   "outputs": [],
   "source": []
  }
 ],
 "metadata": {
  "kernelspec": {
   "display_name": "Python 3 (ipykernel)",
   "language": "python",
   "name": "python3"
  },
  "language_info": {
   "codemirror_mode": {
    "name": "ipython",
    "version": 3
   },
   "file_extension": ".py",
   "mimetype": "text/x-python",
   "name": "python",
   "nbconvert_exporter": "python",
   "pygments_lexer": "ipython3",
   "version": "3.8.9"
  },
  "vscode": {
   "interpreter": {
    "hash": "31f2aee4e71d21fbe5cf8b01ff0e069b9275f58929596ceb00d14d90e3e16cd6"
   }
  }
 },
 "nbformat": 4,
 "nbformat_minor": 4
}
