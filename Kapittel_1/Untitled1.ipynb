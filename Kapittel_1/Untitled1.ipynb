{
 "cells": [
  {
   "cell_type": "code",
   "execution_count": null,
   "id": "3c4ebdc3-fa3a-467f-a21f-d4a668e3a892",
   "metadata": {},
   "outputs": [],
   "source": [
    "    "
   ]
  },
  {
   "cell_type": "code",
   "execution_count": 20,
   "id": "7c71c66b-8358-4857-ad61-540e9d356633",
   "metadata": {},
   "outputs": [
    {
     "name": "stdout",
     "output_type": "stream",
     "text": [
      "1 < ^ >\n",
      "4 < ^ >\n",
      "7 < ^ >\n",
      "10 < ^ >\n",
      "13 < ^ >\n",
      "16 < ^ >\n",
      "19 < ^ >\n",
      "22 < ^ >\n",
      "25 < ^ >\n",
      "28 < ^ >\n",
      "31 < ^ >\n",
      "34 < ^ >\n",
      "37 < ^ >\n",
      "40 < ^ >\n",
      "43 < ^ >\n",
      "46 < ^ >\n",
      "49 < ^ >\n",
      "52 < ^ >\n",
      "55 < ^ >\n",
      "58 < ^ >\n"
     ]
    }
   ],
   "source": [
    "m = '< ^ >'\n",
    "\n",
    "for i in range(1,60, 3):\n",
    "    print(i, m)\n",
    "    "
   ]
  },
  {
   "cell_type": "code",
   "execution_count": 21,
   "id": "67db0362-69cc-4634-b120-aca7fc45c30d",
   "metadata": {},
   "outputs": [
    {
     "name": "stdout",
     "output_type": "stream",
     "text": [
      "1 🍌🍊🍏🍏\n",
      "5 🍌🍊🍏🍏\n",
      "9 🍌🍊🍏🍏\n",
      "13 🍌🍊🍏🍏\n",
      "17 🍌🍊🍏🍏\n",
      "21 🍌🍊🍏🍏\n",
      "25 🍌🍊🍏🍏\n",
      "29 🍌🍊🍏🍏\n",
      "33 🍌🍊🍏🍏\n",
      "37 🍌🍊🍏🍏\n",
      "41 🍌🍊🍏🍏\n",
      "45 🍌🍊🍏🍏\n",
      "49 🍌🍊🍏🍏\n",
      "53 🍌🍊🍏🍏\n",
      "57 🍌🍊🍏🍏\n"
     ]
    }
   ],
   "source": [
    "f = '🍌🍊🍏🍏'\n",
    "\n",
    "for i in range(1, 60, 4):\n",
    "    print(i, f)\n"
   ]
  },
  {
   "cell_type": "code",
   "execution_count": 18,
   "id": "aae9ddcf-e937-4c1f-8749-8108085b910e",
   "metadata": {
    "scrolled": true,
    "tags": []
   },
   "outputs": [
    {
     "name": "stdout",
     "output_type": "stream",
     "text": [
      "1 🎁🎁🎩🎩\n",
      "5 🎁🎁🎩🎩\n",
      "9 🎁🎁🎩🎩\n",
      "13 🎁🎁🎩🎩\n",
      "17 🎁🎁🎩🎩\n",
      "21 🎁🎁🎩🎩\n",
      "25 🎁🎁🎩🎩\n",
      "29 🎁🎁🎩🎩\n",
      "33 🎁🎁🎩🎩\n",
      "37 🎁🎁🎩🎩\n",
      "41 🎁🎁🎩🎩\n",
      "45 🎁🎁🎩🎩\n",
      "49 🎁🎁🎩🎩\n",
      "53 🎁🎁🎩🎩\n",
      "57 🎁🎁🎩🎩\n"
     ]
    }
   ],
   "source": [
    "k = '🎁🎁🎩🎩'\n",
    "\n",
    "for i in range(1, 60, 4):\n",
    "    print(i, k)"
   ]
  },
  {
   "cell_type": "code",
   "execution_count": 13,
   "id": "383fdbe9-002a-4d5c-a466-520abc2a10d9",
   "metadata": {},
   "outputs": [
    {
     "name": "stdout",
     "output_type": "stream",
     "text": [
      "figur 2: 6\n",
      "figur 3: 8\n",
      "figur 4: 10\n",
      "figur 5: 12\n",
      "figur 6: 14\n",
      "figur 7: 16\n",
      "figur 8: 18\n",
      "figur 9: 20\n",
      "figur 10: 22\n"
     ]
    }
   ],
   "source": [
    "figur = 4\n",
    "for i in range(2,11):\n",
    "    figur = figur + 2\n",
    "    print(f'figur {i}: {figur}')"
   ]
  },
  {
   "cell_type": "code",
   "execution_count": 15,
   "id": "58162b9a-065b-4e86-9513-628661cfdb6c",
   "metadata": {},
   "outputs": [
    {
     "name": "stdout",
     "output_type": "stream",
     "text": [
      "figur 2: 12\n",
      "figur 3: 16\n",
      "figur 4: 20\n",
      "figur 5: 24\n",
      "figur 6: 28\n",
      "figur 7: 32\n",
      "figur 8: 36\n",
      "figur 9: 40\n",
      "figur 10: 44\n",
      "figur 11: 48\n",
      "figur 12: 52\n",
      "figur 13: 56\n",
      "figur 14: 60\n"
     ]
    }
   ],
   "source": [
    "figur = 8\n",
    "for i in range(2,15):\n",
    "    figur = figur + 4\n",
    "    print(f'figur {i}: {figur}')"
   ]
  },
  {
   "cell_type": "code",
   "execution_count": 12,
   "id": "53bec0bb-4182-4c9c-b204-f54508dd5658",
   "metadata": {},
   "outputs": [
    {
     "name": "stdout",
     "output_type": "stream",
     "text": [
      "figur 2: 3\n",
      "figur 3: 6\n",
      "figur 4: 10\n",
      "figur 5: 15\n",
      "figur 6: 21\n",
      "figur 7: 28\n",
      "figur 8: 36\n",
      "figur 9: 45\n",
      "figur 10: 55\n"
     ]
    }
   ],
   "source": [
    "figur = 1\n",
    "for i in range(2,11):\n",
    "    figur = figur + i\n",
    "    print(f'figur {i}: {figur}')"
   ]
  },
  {
   "cell_type": "code",
   "execution_count": null,
   "id": "f1ee2e0b-383c-40b5-98b2-e1d7a8446bcc",
   "metadata": {},
   "outputs": [],
   "source": []
  }
 ],
 "metadata": {
  "kernelspec": {
   "display_name": "Python 3 (ipykernel)",
   "language": "python",
   "name": "python3"
  },
  "language_info": {
   "codemirror_mode": {
    "name": "ipython",
    "version": 3
   },
   "file_extension": ".py",
   "mimetype": "text/x-python",
   "name": "python",
   "nbconvert_exporter": "python",
   "pygments_lexer": "ipython3",
   "version": "3.8.13"
  }
 },
 "nbformat": 4,
 "nbformat_minor": 5
}
