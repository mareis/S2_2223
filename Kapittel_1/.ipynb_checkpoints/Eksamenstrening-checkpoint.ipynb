{
 "cells": [
  {
   "cell_type": "markdown",
   "id": "b44fdac8-02e7-48a8-a1d4-8fbf20d017a0",
   "metadata": {},
   "source": [
    "## Vår 2018 \n",
    "### Oppgave 2 d)"
   ]
  },
  {
   "cell_type": "code",
   "execution_count": 1,
   "id": "5a1bd564-bb50-4d3d-a516-3a2a41cb3cb5",
   "metadata": {},
   "outputs": [
    {
     "name": "stdout",
     "output_type": "stream",
     "text": [
      "slutten 2033  920114.65 30000.00\n",
      "slutten 2034  931470.39 33000.00\n",
      "slutten 2035  939928.91 36300.00\n",
      "slutten 2036  944998.85 39930.00\n",
      "slutten 2037  946129.64 43923.00\n",
      "slutten 2038  942705.06 48315.30\n",
      "slutten 2039  934036.14 53146.83\n",
      "slutten 2040  919353.36 58461.51\n",
      "slutten 2041  897797.98 64307.66\n",
      "slutten 2042  868412.53 70738.43\n",
      "slutten 2043  830130.27 77812.27\n",
      "slutten 2044  781763.60 85593.50\n",
      "slutten 2045  721991.29 94152.85\n",
      "slutten 2046  649344.31 103568.14\n",
      "slutten 2047  562190.33 113924.95\n",
      "slutten 2048  458716.53 125317.45\n",
      "slutten 2049  336910.71 137849.19\n",
      "slutten 2050  194540.43 151634.11\n",
      "slutten 2051  29130.05 166797.52\n",
      "slutten 2052  -162064.58 183477.27\n"
     ]
    }
   ],
   "source": [
    "saldo = 906_299.67\n",
    "uttak = 30_000\n",
    "vf = 1.05\n",
    "år = 2033\n",
    "\n",
    "while saldo > 0:\n",
    "    saldo = saldo - uttak\n",
    "    saldo = saldo*vf\n",
    "    \n",
    "    print(f'slutten {år}  {saldo:.2f} {uttak:.2f}')\n",
    "    \n",
    "    år = år + 1\n",
    "    uttak = uttak*1.10"
   ]
  }
 ],
 "metadata": {
  "kernelspec": {
   "display_name": "Python 3 (ipykernel)",
   "language": "python",
   "name": "python3"
  },
  "language_info": {
   "codemirror_mode": {
    "name": "ipython",
    "version": 3
   },
   "file_extension": ".py",
   "mimetype": "text/x-python",
   "name": "python",
   "nbconvert_exporter": "python",
   "pygments_lexer": "ipython3",
   "version": "3.8.13"
  }
 },
 "nbformat": 4,
 "nbformat_minor": 5
}
