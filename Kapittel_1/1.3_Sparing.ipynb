{
 "cells": [
  {
   "cell_type": "markdown",
   "metadata": {},
   "source": [
    "# 1.3 Sparing"
   ]
  },
  {
   "cell_type": "markdown",
   "metadata": {},
   "source": [
    "## Eksempel x1\n",
    "\n",
    "Boligsparingsprosjekt i BSU\n",
    "\n",
    "Rente: 3.10%\n",
    "Årlig innskudd 27 500 kr\n",
    "\n",
    "Varighet: 8 år\n",
    "\n",
    "\n",
    "*Hva er saldoen i slutten av det 8. året?*\n"
   ]
  },
  {
   "cell_type": "markdown",
   "metadata": {},
   "source": [
    "Saldoen etter 8 år med innskud og renter er 253016.40 kr"
   ]
  },
  {
   "cell_type": "markdown",
   "metadata": {},
   "source": [
    "*Hva er saldoen rett etter det 89. innskuddet?*"
   ]
  },
  {
   "cell_type": "code",
   "execution_count": 6,
   "metadata": {},
   "outputs": [
    {
     "name": "stdout",
     "output_type": "stream",
     "text": [
      "Saldo rett etter hvert innskudd:\n",
      "1: 27500.00\n",
      "2: 55852.50\n",
      "3: 85083.93\n",
      "4: 115221.53\n",
      "5: 146293.40\n",
      "6: 178328.49\n",
      "7: 211356.68\n",
      "8: 245408.73\n"
     ]
    }
   ],
   "source": [
    "saldo = 0\n",
    "vf = 1.031 \n",
    "innskudd = 27500\n",
    "\n",
    "print(\"Saldo rett etter hvert innskudd:\")\n",
    "\n",
    "for år in range(1, 9):\n",
    "    saldo = saldo + innskudd\n",
    "    print(f\"{år}: {saldo:.2f}\")\n",
    "    saldo = saldo*vf\n",
    "    "
   ]
  },
  {
   "cell_type": "markdown",
   "metadata": {},
   "source": [
    "## Eksempel 11"
   ]
  },
  {
   "cell_type": "code",
   "execution_count": 15,
   "metadata": {},
   "outputs": [
    {
     "name": "stdout",
     "output_type": "stream",
     "text": [
      "Saldo i slutten av hvert år:\n",
      "2022:  20800.00 kr\n",
      "2023:  42432.00 kr\n",
      "2024:  64929.28 kr\n",
      "2025:  88326.45 kr\n",
      "2026: 112659.51 kr\n",
      "2027: 137965.89 kr\n",
      "2028: 164284.53 kr\n",
      "2029: 191655.91 kr\n",
      "2030: 220122.14 kr\n",
      "2031: 249727.03 kr\n",
      "2032: 280516.11 kr\n",
      "2033: 312536.75 kr\n",
      "2034: 345838.22 kr\n",
      "2035: 380471.75 kr\n"
     ]
    }
   ],
   "source": [
    "saldo = 0\n",
    "innskudd = 20000\n",
    "vf = 1.04\n",
    "\n",
    "print(\"Saldo i slutten av hvert år:\")\n",
    "\n",
    "for år in range(2022, 2036):\n",
    "    saldo = saldo + innskudd\n",
    "    saldo = saldo*vf\n",
    "\n",
    "    #print(år, \":\", round(saldo, 2), \"kr\")\n",
    "    print(f\"{år}: {saldo:9.2f} kr\")\n"
   ]
  },
  {
   "cell_type": "markdown",
   "metadata": {},
   "source": [
    "### Oppgave 1.21"
   ]
  },
  {
   "cell_type": "code",
   "execution_count": 23,
   "metadata": {},
   "outputs": [
    {
     "name": "stdout",
     "output_type": "stream",
     "text": [
      "Saldo rett etter hvert innskudd:\n",
      " 1: 3000.00 kr\n",
      " 2: 6150.00 kr\n",
      " 3: 9457.50 kr\n",
      " 4: 12930.38 kr\n",
      " 5: 16576.89 kr\n",
      " 6: 20405.74 kr\n",
      " 7: 24426.03 kr\n",
      " 8: 28647.33 kr\n",
      " 9: 33079.69 kr\n",
      "10: 37733.68 kr\n"
     ]
    }
   ],
   "source": [
    "saldo = 0\n",
    "innskudd = 3000\n",
    "vf = 1.05\n",
    "\n",
    "print(\"Saldo rett etter hvert innskudd:\")\n",
    "\n",
    "for år in range(1, 11):\n",
    "    saldo = saldo + innskudd\n",
    "    print(f\"{år:2}: {saldo:7.2f} kr\")\n",
    "    saldo = saldo*vf\n"
   ]
  },
  {
   "cell_type": "markdown",
   "metadata": {},
   "source": [
    "Saldoen rett etter det 10. innskuddet er 37733.68 kr."
   ]
  },
  {
   "cell_type": "markdown",
   "metadata": {},
   "source": [
    "## Oppgave 1.23"
   ]
  },
  {
   "cell_type": "code",
   "execution_count": 24,
   "metadata": {},
   "outputs": [
    {
     "name": "stdout",
     "output_type": "stream",
     "text": [
      " 1: 54.5\n",
      " 2: 51.2\n",
      " 3: 48.2\n",
      " 4: 45.3\n",
      " 5: 42.6\n",
      " 6: 40.0\n",
      " 7: 37.6\n",
      " 8: 35.4\n",
      " 9: 33.2\n",
      "10: 31.2\n"
     ]
    }
   ],
   "source": [
    "#a\n",
    "utslipp = 58 # i tonn\n",
    "vf = 0.94\n",
    "\n",
    "for år in range(1, 11):\n",
    "    utslipp = utslipp*vf\n",
    "    print(f\"{år:2}: {utslipp:.1f}\")"
   ]
  },
  {
   "cell_type": "markdown",
   "metadata": {},
   "source": [
    "Bedriften slipper ut 42.6 tonn CO2 det 5. året."
   ]
  },
  {
   "cell_type": "code",
   "execution_count": 27,
   "metadata": {},
   "outputs": [
    {
     "name": "stdout",
     "output_type": "stream",
     "text": [
      "Summen av utslippene de 10 neste åprene: 419.2 tonn.\n"
     ]
    }
   ],
   "source": [
    "#b\n",
    "\n",
    "utslipp = 58 # i tonn\n",
    "vf = 0.94\n",
    "sum = 0\n",
    "\n",
    "for år in range(1, 11):\n",
    "    utslipp = utslipp*vf\n",
    "    sum = sum + utslipp\n",
    "    #print(f\"{år:2}: {utslipp:.1f}\")\n",
    "\n",
    "print(f\"Summen av utslippene de 10 neste åprene: {sum:.1f} tonn.\")"
   ]
  },
  {
   "cell_type": "markdown",
   "metadata": {},
   "source": [
    "## Oppgave 1.31"
   ]
  },
  {
   "cell_type": "code",
   "execution_count": 1,
   "metadata": {},
   "outputs": [
    {
     "name": "stdout",
     "output_type": "stream",
     "text": [
      " 1:  4355000.00 kr\n",
      " 2:  4205650.00 kr\n",
      " 3:  4051819.50 kr\n",
      " 4:  3893374.08 kr\n",
      " 5:  3730175.31 kr\n",
      " 6:  3562080.57 kr\n",
      " 7:  3388942.98 kr\n",
      " 8:  3210611.27 kr\n",
      " 9:  3026929.61 kr\n",
      "10:  2837737.50 kr\n",
      "11:  2642869.62 kr\n",
      "12:  2442155.71 kr\n",
      "13:  2235420.38 kr\n",
      "14:  2022483.00 kr\n",
      "15:  1803157.49 kr\n",
      "16:  1577252.21 kr\n",
      "17:  1344569.78 kr\n",
      "18:  1104906.87 kr\n",
      "19:   858054.08 kr\n",
      "20:   603795.70 kr\n",
      "21:   341909.57 kr\n",
      "22:    72166.86 kr\n",
      "23:  -205668.14 kr\n"
     ]
    }
   ],
   "source": [
    "lån = 4500000\n",
    "terminbeløp = 280000\n",
    "vf = 1.03\n",
    "\n",
    "for år in range(1, 24):\n",
    "    lån = lån*vf - terminbeløp\n",
    "    print(f\"{år:2}: {lån:11.2f} kr\")"
   ]
  },
  {
   "cell_type": "code",
   "execution_count": 38,
   "metadata": {},
   "outputs": [
    {
     "name": "stdout",
     "output_type": "stream",
     "text": [
      " 1:  4355000.00\n",
      " 2:  4205650.00\n",
      " 3:  4051819.50\n",
      " 4:  3893374.08\n",
      " 5:  3730175.31\n",
      " 6:  3562080.57\n",
      " 7:  3388942.98\n",
      " 8:  3210611.27\n",
      " 9:  3026929.61\n",
      "10:  2837737.50\n",
      "11:  2642869.62\n",
      "12:  2442155.71\n",
      "13:  2235420.38\n",
      "14:  2022483.00\n",
      "15:  1803157.49\n",
      "16:  1577252.21\n",
      "17:  1344569.78\n",
      "18:  1104906.87\n",
      "19:   858054.08\n",
      "20:   603795.70\n",
      "21:   341909.57\n",
      "22:    72166.86\n",
      "23:  -205668.14\n"
     ]
    }
   ],
   "source": [
    "lån = 4500000\n",
    "terminbeløp = 40000\n",
    "pf = 0.03\n",
    "år = 1\n",
    "\n",
    "while lån > 0:\n",
    "    avdrag = terminbeløp - lån*pf\n",
    "    lån = lån - avdrag\n",
    "    print(f\"{år:2}: {lån:11.2f}\")\n",
    "    år = år + 1\n"
   ]
  },
  {
   "cell_type": "code",
   "execution_count": 45,
   "metadata": {},
   "outputs": [
    {
     "name": "stdout",
     "output_type": "stream",
     "text": [
      "  1:  8986839.00 kr\n",
      "  2:  8973640.21 kr\n",
      "  3:  8960403.54 kr\n",
      "  4:  8947128.85 kr\n",
      "  5:  8933816.06 kr\n",
      "  6:  8920465.05 kr\n",
      "  7:  8907075.70 kr\n",
      "  8:  8893647.92 kr\n",
      "  9:  8880181.58 kr\n",
      " 10:  8866676.58 kr\n",
      " 11:  8853132.81 kr\n",
      " 12:  8839550.15 kr\n",
      " 13:  8825928.50 kr\n",
      " 14:  8812267.74 kr\n",
      " 15:  8798567.76 kr\n",
      " 16:  8784828.45 kr\n",
      " 17:  8771049.69 kr\n",
      " 18:  8757231.38 kr\n",
      " 19:  8743373.39 kr\n",
      " 20:  8729475.61 kr\n",
      " 21:  8715537.94 kr\n",
      " 22:  8701560.25 kr\n",
      " 23:  8687542.43 kr\n",
      " 24:  8673484.36 kr\n",
      " 25:  8659385.94 kr\n",
      " 26:  8645247.03 kr\n",
      " 27:  8631067.54 kr\n",
      " 28:  8616847.33 kr\n",
      " 29:  8602586.30 kr\n",
      " 30:  8588284.33 kr\n",
      " 31:  8573941.29 kr\n",
      " 32:  8559557.08 kr\n",
      " 33:  8545131.56 kr\n",
      " 34:  8530664.64 kr\n",
      " 35:  8516156.17 kr\n",
      " 36:  8501606.06 kr\n",
      " 37:  8487014.17 kr\n",
      " 38:  8472380.39 kr\n",
      " 39:  8457704.59 kr\n",
      " 40:  8442986.66 kr\n",
      " 41:  8428226.48 kr\n",
      " 42:  8413423.91 kr\n",
      " 43:  8398578.85 kr\n",
      " 44:  8383691.17 kr\n",
      " 45:  8368760.75 kr\n",
      " 46:  8353787.46 kr\n",
      " 47:  8338771.19 kr\n",
      " 48:  8323711.80 kr\n",
      " 49:  8308609.18 kr\n",
      " 50:  8293463.19 kr\n",
      " 51:  8278273.73 kr\n",
      " 52:  8263040.65 kr\n",
      " 53:  8247763.84 kr\n",
      " 54:  8232443.17 kr\n",
      " 55:  8217078.51 kr\n",
      " 56:  8201669.75 kr\n",
      " 57:  8186216.74 kr\n",
      " 58:  8170719.37 kr\n",
      " 59:  8155177.50 kr\n",
      " 60:  8139591.02 kr\n",
      " 61:  8123959.78 kr\n",
      " 62:  8108283.67 kr\n",
      " 63:  8092562.56 kr\n",
      " 64:  8076796.30 kr\n",
      " 65:  8060984.78 kr\n",
      " 66:  8045127.87 kr\n",
      " 67:  8029225.43 kr\n",
      " 68:  8013277.34 kr\n",
      " 69:  7997283.46 kr\n",
      " 70:  7981243.66 kr\n",
      " 71:  7965157.81 kr\n",
      " 72:  7949025.78 kr\n",
      " 73:  7932847.43 kr\n",
      " 74:  7916622.64 kr\n",
      " 75:  7900351.26 kr\n",
      " 76:  7884033.17 kr\n",
      " 77:  7867668.23 kr\n",
      " 78:  7851256.30 kr\n",
      " 79:  7834797.26 kr\n",
      " 80:  7818290.96 kr\n",
      " 81:  7801737.28 kr\n",
      " 82:  7785136.06 kr\n",
      " 83:  7768487.19 kr\n",
      " 84:  7751790.52 kr\n",
      " 85:  7735045.91 kr\n",
      " 86:  7718253.22 kr\n",
      " 87:  7701412.33 kr\n",
      " 88:  7684523.08 kr\n",
      " 89:  7667585.35 kr\n",
      " 90:  7650598.99 kr\n",
      " 91:  7633563.86 kr\n",
      " 92:  7616479.82 kr\n",
      " 93:  7599346.73 kr\n",
      " 94:  7582164.46 kr\n",
      " 95:  7564932.85 kr\n",
      " 96:  7547651.77 kr\n",
      " 97:  7530321.08 kr\n",
      " 98:  7512940.63 kr\n",
      " 99:  7495510.29 kr\n",
      "100:  7478029.90 kr\n",
      "101:  7460499.32 kr\n",
      "102:  7442918.41 kr\n",
      "103:  7425287.03 kr\n",
      "104:  7407605.03 kr\n",
      "105:  7389872.27 kr\n",
      "106:  7372088.59 kr\n",
      "107:  7354253.86 kr\n",
      "108:  7336367.92 kr\n",
      "109:  7318430.63 kr\n",
      "110:  7300441.84 kr\n",
      "111:  7282401.41 kr\n",
      "112:  7264309.19 kr\n",
      "113:  7246165.02 kr\n",
      "114:  7227968.76 kr\n",
      "115:  7209720.26 kr\n",
      "116:  7191419.36 kr\n",
      "117:  7173065.93 kr\n",
      "118:  7154659.80 kr\n",
      "119:  7136200.83 kr\n",
      "120:  7117688.86 kr\n",
      "121:  7099123.75 kr\n",
      "122:  7080505.33 kr\n",
      "123:  7061833.46 kr\n",
      "124:  7043107.99 kr\n",
      "125:  7024328.75 kr\n",
      "126:  7005495.60 kr\n",
      "127:  6986608.37 kr\n",
      "128:  6967666.93 kr\n",
      "129:  6948671.10 kr\n",
      "130:  6929620.73 kr\n",
      "131:  6910515.67 kr\n",
      "132:  6891355.77 kr\n",
      "133:  6872140.85 kr\n",
      "134:  6852870.76 kr\n",
      "135:  6833545.36 kr\n",
      "136:  6814164.46 kr\n",
      "137:  6794727.93 kr\n",
      "138:  6775235.59 kr\n",
      "139:  6755687.30 kr\n",
      "140:  6736082.87 kr\n",
      "141:  6716422.17 kr\n",
      "142:  6696705.02 kr\n",
      "143:  6676931.26 kr\n",
      "144:  6657100.73 kr\n",
      "145:  6637213.26 kr\n",
      "146:  6617268.70 kr\n",
      "147:  6597266.88 kr\n",
      "148:  6577207.63 kr\n",
      "149:  6557090.80 kr\n",
      "150:  6536916.20 kr\n",
      "151:  6516683.69 kr\n",
      "152:  6496393.09 kr\n",
      "153:  6476044.23 kr\n",
      "154:  6455636.96 kr\n",
      "155:  6435171.09 kr\n",
      "156:  6414646.47 kr\n",
      "157:  6394062.92 kr\n",
      "158:  6373420.27 kr\n",
      "159:  6352718.36 kr\n",
      "160:  6331957.02 kr\n",
      "161:  6311136.06 kr\n",
      "162:  6290255.34 kr\n",
      "163:  6269314.66 kr\n",
      "164:  6248313.86 kr\n",
      "165:  6227252.77 kr\n",
      "166:  6206131.21 kr\n",
      "167:  6184949.02 kr\n",
      "168:  6163706.00 kr\n",
      "169:  6142402.00 kr\n",
      "170:  6121036.84 kr\n",
      "171:  6099610.34 kr\n",
      "172:  6078122.32 kr\n",
      "173:  6056572.61 kr\n",
      "174:  6034961.03 kr\n",
      "175:  6013287.40 kr\n",
      "176:  5991551.55 kr\n",
      "177:  5969753.29 kr\n",
      "178:  5947892.46 kr\n",
      "179:  5925968.85 kr\n",
      "180:  5903982.31 kr\n",
      "181:  5881932.64 kr\n",
      "182:  5859819.67 kr\n",
      "183:  5837643.22 kr\n",
      "184:  5815403.09 kr\n",
      "185:  5793099.11 kr\n",
      "186:  5770731.10 kr\n",
      "187:  5748298.87 kr\n",
      "188:  5725802.23 kr\n",
      "189:  5703241.01 kr\n",
      "190:  5680615.02 kr\n",
      "191:  5657924.06 kr\n",
      "192:  5635167.96 kr\n",
      "193:  5612346.53 kr\n",
      "194:  5589459.58 kr\n",
      "195:  5566506.92 kr\n",
      "196:  5543488.36 kr\n",
      "197:  5520403.71 kr\n",
      "198:  5497252.79 kr\n",
      "199:  5474035.40 kr\n",
      "200:  5450751.36 kr\n",
      "201:  5427400.47 kr\n",
      "202:  5403982.53 kr\n",
      "203:  5380497.37 kr\n",
      "204:  5356944.77 kr\n",
      "205:  5333324.56 kr\n",
      "206:  5309636.54 kr\n",
      "207:  5285880.50 kr\n",
      "208:  5262056.27 kr\n",
      "209:  5238163.63 kr\n",
      "210:  5214202.40 kr\n",
      "211:  5190172.37 kr\n",
      "212:  5166073.36 kr\n",
      "213:  5141905.16 kr\n",
      "214:  5117667.56 kr\n",
      "215:  5093360.39 kr\n",
      "216:  5068983.43 kr\n",
      "217:  5044536.48 kr\n",
      "218:  5020019.34 kr\n",
      "219:  4995431.82 kr\n",
      "220:  4970773.70 kr\n",
      "221:  4946044.79 kr\n",
      "222:  4921244.89 kr\n",
      "223:  4896373.78 kr\n",
      "224:  4871431.27 kr\n",
      "225:  4846417.15 kr\n",
      "226:  4821331.21 kr\n",
      "227:  4796173.26 kr\n",
      "228:  4770943.07 kr\n",
      "229:  4745640.45 kr\n",
      "230:  4720265.18 kr\n",
      "231:  4694817.06 kr\n",
      "232:  4669295.88 kr\n",
      "233:  4643701.43 kr\n",
      "234:  4618033.50 kr\n",
      "235:  4592291.87 kr\n",
      "236:  4566476.34 kr\n",
      "237:  4540586.69 kr\n",
      "238:  4514622.72 kr\n",
      "239:  4488584.20 kr\n",
      "240:  4462470.93 kr\n",
      "241:  4436282.68 kr\n",
      "242:  4410019.25 kr\n",
      "243:  4383680.41 kr\n",
      "244:  4357265.96 kr\n",
      "245:  4330775.67 kr\n",
      "246:  4304209.33 kr\n",
      "247:  4277566.71 kr\n",
      "248:  4250847.61 kr\n",
      "249:  4224051.79 kr\n",
      "250:  4197179.04 kr\n",
      "251:  4170229.14 kr\n",
      "252:  4143201.87 kr\n",
      "253:  4116097.00 kr\n",
      "254:  4088914.32 kr\n",
      "255:  4061653.59 kr\n",
      "256:  4034314.60 kr\n",
      "257:  4006897.12 kr\n",
      "258:  3979400.92 kr\n",
      "259:  3951825.78 kr\n",
      "260:  3924171.47 kr\n",
      "261:  3896437.77 kr\n",
      "262:  3868624.44 kr\n",
      "263:  3840731.26 kr\n",
      "264:  3812758.00 kr\n",
      "265:  3784704.43 kr\n",
      "266:  3756570.31 kr\n",
      "267:  3728355.43 kr\n",
      "268:  3700059.54 kr\n",
      "269:  3671682.41 kr\n",
      "270:  3643223.81 kr\n",
      "271:  3614683.50 kr\n",
      "272:  3586061.26 kr\n",
      "273:  3557356.84 kr\n",
      "274:  3528570.01 kr\n",
      "275:  3499700.54 kr\n",
      "276:  3470748.18 kr\n",
      "277:  3441712.69 kr\n",
      "278:  3412593.85 kr\n",
      "279:  3383391.41 kr\n",
      "280:  3354105.13 kr\n",
      "281:  3324734.76 kr\n",
      "282:  3295280.07 kr\n",
      "283:  3265740.82 kr\n",
      "284:  3236116.77 kr\n",
      "285:  3206407.66 kr\n",
      "286:  3176613.25 kr\n",
      "287:  3146733.31 kr\n",
      "288:  3116767.58 kr\n",
      "289:  3086715.82 kr\n",
      "290:  3056577.78 kr\n",
      "291:  3026353.22 kr\n",
      "292:  2996041.88 kr\n",
      "293:  2965643.51 kr\n",
      "294:  2935157.88 kr\n",
      "295:  2904584.71 kr\n",
      "296:  2873923.78 kr\n",
      "297:  2843174.81 kr\n",
      "298:  2812337.57 kr\n",
      "299:  2781411.79 kr\n",
      "300:  2750397.22 kr\n",
      "301:  2719293.61 kr\n",
      "302:  2688100.70 kr\n",
      "303:  2656818.24 kr\n",
      "304:  2625445.97 kr\n",
      "305:  2593983.62 kr\n",
      "306:  2562430.95 kr\n",
      "307:  2530787.69 kr\n",
      "308:  2499053.58 kr\n",
      "309:  2467228.36 kr\n",
      "310:  2435311.77 kr\n",
      "311:  2403303.55 kr\n",
      "312:  2371203.44 kr\n",
      "313:  2339011.16 kr\n",
      "314:  2306726.46 kr\n",
      "315:  2274349.08 kr\n",
      "316:  2241878.73 kr\n",
      "317:  2209315.17 kr\n",
      "318:  2176658.11 kr\n",
      "319:  2143907.30 kr\n",
      "320:  2111062.45 kr\n",
      "321:  2078123.31 kr\n",
      "322:  2045089.61 kr\n",
      "323:  2011961.06 kr\n",
      "324:  1978737.40 kr\n",
      "325:  1945418.35 kr\n",
      "326:  1912003.65 kr\n",
      "327:  1878493.01 kr\n",
      "328:  1844886.17 kr\n",
      "329:  1811182.83 kr\n",
      "330:  1777382.74 kr\n",
      "331:  1743485.61 kr\n",
      "332:  1709491.15 kr\n",
      "333:  1675399.10 kr\n",
      "334:  1641209.17 kr\n",
      "335:  1606921.08 kr\n",
      "336:  1572534.55 kr\n",
      "337:  1538049.30 kr\n",
      "338:  1503465.04 kr\n",
      "339:  1468781.49 kr\n",
      "340:  1433998.36 kr\n",
      "341:  1399115.37 kr\n",
      "342:  1364132.23 kr\n",
      "343:  1329048.65 kr\n",
      "344:  1293864.35 kr\n",
      "345:  1258579.04 kr\n",
      "346:  1223192.42 kr\n",
      "347:  1187704.20 kr\n",
      "348:  1152114.10 kr\n",
      "349:  1116421.82 kr\n",
      "350:  1080627.07 kr\n",
      "351:  1044729.55 kr\n",
      "352:  1008728.97 kr\n",
      "353:   972625.03 kr\n",
      "354:   936417.43 kr\n",
      "355:   900105.89 kr\n",
      "356:   863690.09 kr\n",
      "357:   827169.75 kr\n",
      "358:   790544.55 kr\n",
      "359:   753814.20 kr\n",
      "360:   716978.41 kr\n",
      "361:   680036.85 kr\n",
      "362:   642989.24 kr\n",
      "363:   605835.26 kr\n",
      "364:   568574.61 kr\n",
      "365:   531206.99 kr\n",
      "366:   493732.08 kr\n",
      "367:   456149.59 kr\n",
      "368:   418459.19 kr\n",
      "369:   380660.59 kr\n",
      "370:   342753.47 kr\n",
      "371:   304737.51 kr\n",
      "372:   266612.41 kr\n",
      "373:   228377.86 kr\n",
      "374:   190033.53 kr\n",
      "375:   151579.12 kr\n",
      "376:   113014.30 kr\n",
      "377:    74338.77 kr\n",
      "378:    35552.19 kr\n",
      "379:    -3345.74 kr\n",
      "31.583333333333332\n"
     ]
    }
   ],
   "source": [
    "lån = 9000000\n",
    "terminbeløp = 39000 #månedlig\n",
    "pf = 0.002871 #månedlig (3.5% årlig rente tilsvarer 0.2871% i måneden)\n",
    "måned = 0\n",
    "\n",
    "while lån > 0:\n",
    "    måned = måned + 1\n",
    "    avdrag = terminbeløp - lån*pf\n",
    "    lån = lån - avdrag\n",
    "    print(f\"{måned:3}: {lån:11.2f} kr\")\n",
    "\n",
    "print(måned/12)"
   ]
  },
  {
   "cell_type": "code",
   "execution_count": 7,
   "metadata": {},
   "outputs": [
    {
     "name": "stdout",
     "output_type": "stream",
     "text": [
      "  1:   19581.00 kr\n",
      "  2:   19155.51 kr\n",
      "  3:   18723.42 kr\n",
      "  4:   18284.63 kr\n",
      "  5:   17839.04 kr\n",
      "  6:   17386.55 kr\n",
      "  7:   16927.04 kr\n",
      "  8:   16460.41 kr\n",
      "  9:   15986.54 kr\n",
      " 10:   15505.33 kr\n",
      " 11:   15016.67 kr\n",
      " 12:   14520.42 kr\n",
      " 13:   14016.49 kr\n",
      " 14:   13504.75 kr\n",
      " 15:   12985.07 kr\n",
      " 16:   12457.34 kr\n",
      " 17:   11921.43 kr\n",
      " 18:   11377.21 kr\n",
      " 19:   10824.56 kr\n",
      " 20:   10263.34 kr\n",
      " 21:    9693.42 kr\n",
      " 22:    9114.67 kr\n",
      " 23:    8526.94 kr\n",
      " 24:    7930.11 kr\n",
      " 25:    7324.03 kr\n",
      " 26:    6708.55 kr\n",
      " 27:    6083.53 kr\n",
      " 28:    5448.83 kr\n",
      " 29:    4804.29 kr\n",
      " 30:    4149.75 kr\n",
      " 31:    3485.07 kr\n",
      " 32:    2810.09 kr\n",
      " 33:    2124.65 kr\n",
      " 34:    1428.58 kr\n",
      " 35:     721.72 kr\n",
      " 36:       3.91 kr\n"
     ]
    }
   ],
   "source": [
    "pf = 0.0155\n",
    "lån = 20000\n",
    "terminbeløp = 729\n",
    "\n",
    "for mnd in range(1, 37):\n",
    "    avddrag = terminbeløp - lån*pf\n",
    "    lån = lån - avddrag\n",
    "    print(f\"{mnd:3}: {lån:10.2f} kr\")"
   ]
  },
  {
   "cell_type": "code",
   "execution_count": 9,
   "metadata": {},
   "outputs": [
    {
     "name": "stdout",
     "output_type": "stream",
     "text": [
      "  1:   19581.00 kr\n",
      "  2:   19155.51 kr\n",
      "  3:   18723.42 kr\n",
      "  4:   18284.63 kr\n",
      "  5:   17839.04 kr\n",
      "  6:   17386.55 kr\n",
      "  7:   16927.04 kr\n",
      "  8:   16460.41 kr\n",
      "  9:   15986.54 kr\n",
      " 10:   15505.33 kr\n",
      " 11:   15016.67 kr\n",
      " 12:   14520.42 kr\n",
      " 13:   14016.49 kr\n",
      " 14:   13504.75 kr\n",
      " 15:   12985.07 kr\n",
      " 16:   12457.34 kr\n",
      " 17:   11921.43 kr\n",
      " 18:   11377.21 kr\n",
      " 19:   10824.56 kr\n",
      " 20:   10263.34 kr\n",
      " 21:    9693.42 kr\n",
      " 22:    9114.67 kr\n",
      " 23:    8526.94 kr\n",
      " 24:    7930.11 kr\n",
      " 25:    7324.03 kr\n",
      " 26:    6708.55 kr\n",
      " 27:    6083.53 kr\n",
      " 28:    5448.83 kr\n",
      " 29:    4804.29 kr\n",
      " 30:    4149.75 kr\n",
      " 31:    3485.07 kr\n",
      " 32:    2810.09 kr\n",
      " 33:    2124.65 kr\n",
      " 34:    1428.58 kr\n",
      " 35:     721.72 kr\n",
      " 36:       3.91 kr\n"
     ]
    }
   ],
   "source": [
    "vf = 1.0155\n",
    "lån = 20000 #x\n",
    "terminbeløp = 729\n",
    "\n",
    "for mnd in range(1, 37):\n",
    "    lån = lån * vf - terminbeløp\n",
    "    print(f\"{mnd:3}: {lån:10.2f} kr\")"
   ]
  },
  {
   "cell_type": "code",
   "execution_count": 6,
   "metadata": {},
   "outputs": [
    {
     "name": "stdout",
     "output_type": "stream",
     "text": [
      "1:    8240.00 kr\n",
      "2:   16727.20 kr\n",
      "3:   25469.02 kr\n",
      "4:   34473.09 kr\n",
      "5:   43747.28 kr\n"
     ]
    }
   ],
   "source": [
    "saldo = 0\n",
    "vf = 1.03\n",
    "innskudd = 8000\n",
    "\n",
    "for år in range(1,6):\n",
    "    saldo = (saldo + innskudd)*vf\n",
    "    print(f\"{år}: {saldo:10.2f} kr\")"
   ]
  },
  {
   "cell_type": "code",
   "execution_count": 5,
   "metadata": {},
   "outputs": [
    {
     "name": "stdout",
     "output_type": "stream",
     "text": [
      "1:    8240.00 kr\n",
      "2:   16727.20 kr\n",
      "3:   25469.02 kr\n",
      "4:   34473.09 kr\n",
      "5:   43747.28 kr\n",
      "6:   53299.70 kr\n",
      "7:   63138.69 kr\n"
     ]
    }
   ],
   "source": [
    "saldo = 0\n",
    "vf = 1.03\n",
    "innskudd = 8000\n",
    "år = 0\n",
    "\n",
    "while saldo < 60000:\n",
    "    år = år + 1\n",
    "    saldo = (saldo + innskudd)*vf\n",
    "    print(f\"{år}: {saldo:10.2f} kr\")"
   ]
  },
  {
   "cell_type": "code",
   "execution_count": 7,
   "metadata": {},
   "outputs": [
    {
     "name": "stdout",
     "output_type": "stream",
     "text": [
      "5:   43747.28 kr\n"
     ]
    }
   ],
   "source": [
    "saldo = 0\n",
    "for år in range(1,6):\n",
    "    saldo = (saldo + 8000)*1.03\n",
    "    \n",
    "print(f\"{år}: {saldo:10.2f} kr\")"
   ]
  },
  {
   "cell_type": "code",
   "execution_count": 4,
   "metadata": {},
   "outputs": [
    {
     "name": "stdout",
     "output_type": "stream",
     "text": [
      "Saldo rett etter det 18. innskuddet: 409787.51 kr\n"
     ]
    }
   ],
   "source": [
    "\n",
    "saldo = 0\n",
    "for år in range(1,18):\n",
    "    saldo = (saldo + 20000)*1.015\n",
    "    \n",
    "\n",
    "#print(f\"{år}: {saldo:10.2f} kr\")\n",
    "\n",
    "saldo = saldo + 20000 # Det siste innskuddet uten renter\n",
    "\n",
    "print(f\"Saldo rett etter det 18. innskuddet: {saldo:.2f} kr\")"
   ]
  },
  {
   "cell_type": "code",
   "execution_count": 7,
   "metadata": {},
   "outputs": [
    {
     "name": "stdout",
     "output_type": "stream",
     "text": [
      "År: 12    Saldo: 264736.59\n"
     ]
    }
   ],
   "source": [
    "saldo = 0\n",
    "år = 0\n",
    "\n",
    "while saldo < 250000:\n",
    "     saldo = (saldo + 20000)*1.015\n",
    "     år = år + 1\n",
    "\n",
    "\n",
    "print(f\"År: {år}    Saldo: {saldo:.2f}\")"
   ]
  },
  {
   "cell_type": "code",
   "execution_count": 12,
   "metadata": {},
   "outputs": [
    {
     "name": "stdout",
     "output_type": "stream",
     "text": [
      "['Nils', 'Nilsen', '19år', 'Bergen']\n"
     ]
    }
   ],
   "source": [
    "personer = [\n",
    "[\"Per\", \"Spelmann\", \"48år\", \"Oslo\"],\n",
    "[\"Gunn\", \"Johansen\", \"66år\", \"Røros\"],\n",
    "[\"Ivar\", \"Aasen\", \"205år\", \"Åsen\"],\n",
    "[\"Olav\", \"Tryggvason\", \"97år\", \"Trondheim\"],\n",
    "[\"Nils\", \"Nilsen\", \"19år\", \"Bergen\"]]\n",
    "\n",
    "print(personer[-1])"
   ]
  },
  {
   "cell_type": "code",
   "execution_count": 13,
   "metadata": {},
   "outputs": [
    {
     "name": "stdout",
     "output_type": "stream",
     "text": [
      "(2, 4)\n"
     ]
    }
   ],
   "source": [
    "import numpy as np\n",
    "\n",
    "arr = np.array([[1, 2, 3, 4], [5, 6, 7, 8]])\n",
    "\n",
    "print(arr.shape)"
   ]
  },
  {
   "cell_type": "code",
   "execution_count": 17,
   "metadata": {},
   "outputs": [
    {
     "name": "stdout",
     "output_type": "stream",
     "text": [
      "(2, 2)\n"
     ]
    }
   ],
   "source": [
    "import numpy as np\n",
    "\n",
    "liste = [[\"John\", \"Steinar\"], [\"Jon\", \"Arild\"]]\n",
    "arr = np.array(liste)\n",
    "\n",
    "print(arr.shape)"
   ]
  },
  {
   "cell_type": "code",
   "execution_count": null,
   "metadata": {},
   "outputs": [],
   "source": []
  }
 ],
 "metadata": {
  "kernelspec": {
   "display_name": "Python 3.10.6 64-bit",
   "language": "python",
   "name": "python3"
  },
  "language_info": {
   "codemirror_mode": {
    "name": "ipython",
    "version": 3
   },
   "file_extension": ".py",
   "mimetype": "text/x-python",
   "name": "python",
   "nbconvert_exporter": "python",
   "pygments_lexer": "ipython3",
   "version": "3.10.6"
  },
  "orig_nbformat": 4,
  "vscode": {
   "interpreter": {
    "hash": "aee8b7b246df8f9039afb4144a1f6fd8d2ca17a180786b69acc140d282b71a49"
   }
  }
 },
 "nbformat": 4,
 "nbformat_minor": 2
}
