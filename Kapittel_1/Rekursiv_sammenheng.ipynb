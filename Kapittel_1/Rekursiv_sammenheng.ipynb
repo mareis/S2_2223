{
 "cells": [
  {
   "cell_type": "code",
   "execution_count": 2,
   "metadata": {},
   "outputs": [
    {
     "name": "stdout",
     "output_type": "stream",
     "text": [
      "400\n",
      "361\n",
      "324\n",
      "289\n",
      "256\n",
      "225\n",
      "196\n",
      "169\n",
      "144\n"
     ]
    }
   ],
   "source": [
    "a = 400\n",
    "for n in range(1, 10):\n",
    "    print(a)\n",
    "    a = a + 2*n - 41\n",
    "\n"
   ]
  },
  {
   "cell_type": "code",
   "execution_count": 6,
   "metadata": {},
   "outputs": [
    {
     "name": "stdout",
     "output_type": "stream",
     "text": [
      "1 400\n",
      "2 361\n",
      "3 324\n",
      "4 289\n",
      "5 256\n",
      "6 225\n",
      "7 196\n",
      "8 169\n",
      "9 144\n",
      "10 121\n",
      "11 100\n",
      "12 81\n",
      "13 64\n",
      "14 49\n",
      "15 36\n",
      "16 25\n",
      "Summen av alle boksene i de 16 radene er: 2840\n"
     ]
    }
   ],
   "source": [
    "a = 400\n",
    "n = 1\n",
    "sum = 0\n",
    "while a >= 25:\n",
    "    print(n, a)\n",
    "    sum = sum + a\n",
    "    a = a + 2*n - 41\n",
    "    n = n + 1\n",
    "\n",
    "print(f\"Summen av alle boksene i de 16 radene er: {sum}\")"
   ]
  },
  {
   "cell_type": "code",
   "execution_count": 1,
   "metadata": {},
   "outputs": [
    {
     "name": "stdout",
     "output_type": "stream",
     "text": [
      "1\n",
      "5\n",
      "14\n",
      "30\n",
      "55\n",
      "91\n",
      "140\n",
      "204\n",
      "285\n",
      "385\n"
     ]
    }
   ],
   "source": [
    "ptall = 0                       # Startverdi slik at vi kan gjennomføre den \n",
    "                                # rekursive sammenhengen på linje 4\n",
    "for n in range(10):             # Løkke som går 10 repetisjoner med n fra 0-9\n",
    "    ptall = ptall + (n+1)**2    # Rekursiv sammenhengpyramiden øker med kvadrattallene\n",
    "    print(ptall)                # Skriver ut pyramidetallene"
   ]
  },
  {
   "cell_type": "code",
   "execution_count": 9,
   "metadata": {},
   "outputs": [
    {
     "name": "stdout",
     "output_type": "stream",
     "text": [
      "s_10 = 1210\n"
     ]
    }
   ],
   "source": [
    "ptall = 0\n",
    "sum = 0\n",
    "\n",
    "for n in range(1, 11):\n",
    "    ptall = ptall + n**2\n",
    "    sum += ptall\n",
    "    #print(f\"p_{n:<2} = {ptall}\")\n",
    "\n",
    "print(f\"s_10 = {sum}\")\n"
   ]
  },
  {
   "cell_type": "code",
   "execution_count": null,
   "metadata": {},
   "outputs": [],
   "source": []
  }
 ],
 "metadata": {
  "kernelspec": {
   "display_name": "Python 3.10.6 64-bit",
   "language": "python",
   "name": "python3"
  },
  "language_info": {
   "codemirror_mode": {
    "name": "ipython",
    "version": 3
   },
   "file_extension": ".py",
   "mimetype": "text/x-python",
   "name": "python",
   "nbconvert_exporter": "python",
   "pygments_lexer": "ipython3",
   "version": "3.10.6"
  },
  "orig_nbformat": 4,
  "vscode": {
   "interpreter": {
    "hash": "aee8b7b246df8f9039afb4144a1f6fd8d2ca17a180786b69acc140d282b71a49"
   }
  }
 },
 "nbformat": 4,
 "nbformat_minor": 2
}
