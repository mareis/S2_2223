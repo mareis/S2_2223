{
 "cells": [
  {
   "cell_type": "markdown",
   "metadata": {},
   "source": [
    "# 1.2 Rekker\n",
    "\n",
    "## Eksempler"
   ]
  },
  {
   "cell_type": "markdown",
   "metadata": {},
   "source": [
    "### Eksempel \n",
    "\n",
    "En tallfølge er definert ved at hvert ledd er tre mindre enn det dobbelte av forrige ledd. Følgen starter på 4. Skriv et program i Python som skriver de ti første leddene av følgen til skjerm. \n",
    "\n",
    "Rekursiv sammenheng:\n",
    "\n",
    "$a_1 = 4$\n",
    "\n",
    "$a_n = 2 \\cdot a_{n-1} - 3$"
   ]
  },
  {
   "cell_type": "code",
   "execution_count": 2,
   "metadata": {},
   "outputs": [
    {
     "name": "stdout",
     "output_type": "stream",
     "text": [
      "4, 5, 7, 11, 19, 35, 67, 131, 259, 515, "
     ]
    }
   ],
   "source": [
    "a = 4\n",
    "\n",
    "for n in range(10):\n",
    "    print(a, end=', ')\n",
    "    a = 2*a - 3\n"
   ]
  },
  {
   "cell_type": "markdown",
   "metadata": {},
   "source": [
    "Og bestem summen av de 10 første leddene"
   ]
  },
  {
   "cell_type": "markdown",
   "metadata": {},
   "source": [
    "#### Rekker\n",
    "\n",
    "$s_1 = a_1$\n",
    "\n",
    "$s_2 = a_1 + a_2$\n",
    "\n",
    "$s_3 = a_1 + a_2 + a_3$\n",
    "\n",
    "\n",
    "$s_n = a_1 + a_2 + \\cdots + a_n$"
   ]
  },
  {
   "cell_type": "code",
   "execution_count": 5,
   "metadata": {},
   "outputs": [
    {
     "name": "stdout",
     "output_type": "stream",
     "text": [
      "s_10 = 1053\n"
     ]
    }
   ],
   "source": [
    "a = 4\n",
    "sum = 0\n",
    "for n in range(10):\n",
    "    sum = sum + a\n",
    "    #print(a, sum)\n",
    "    a = 2*a - 3\n",
    "\n",
    "print(\"s_10 =\", sum)"
   ]
  },
  {
   "cell_type": "markdown",
   "metadata": {},
   "source": [
    "\n",
    "### Eksempel 7\n",
    "\n",
    "En rekke er gitt ved $3+7+11+15+\\cdots+59$.\n",
    "\n",
    "$a)$ Vis at rekka er aritmetisk.\n"
   ]
  },
  {
   "cell_type": "markdown",
   "metadata": {},
   "source": [
    "7-3 = 11-7 = 15-11 = 4\n",
    "\n",
    "d = 4\n",
    "\n",
    "Rekken er aritmetisk "
   ]
  },
  {
   "cell_type": "markdown",
   "metadata": {},
   "source": [
    "*b)* Bestem summen av rekka.\n"
   ]
  },
  {
   "cell_type": "code",
   "execution_count": 12,
   "metadata": {},
   "outputs": [
    {
     "name": "stdout",
     "output_type": "stream",
     "text": [
      "3 + 7 + 11 + 15 + 19 + 23 + 27 + 31 + 35 + 39 + 43 + 47 + 51 + 55 + 59 + \n",
      "s_15 = 465\n"
     ]
    }
   ],
   "source": [
    "a = 3\n",
    "sum = 0\n",
    "for n in range(15):\n",
    "    sum = sum + a\n",
    "    print(a, end=' + ')\n",
    "    a = a + 4\n",
    "\n",
    "print(\"\")\n",
    "print(\"s_15 =\", sum)"
   ]
  },
  {
   "cell_type": "markdown",
   "metadata": {},
   "source": [
    "*c)* Vi utvider rekka med flere ledd. Hvor mange ledd må rekka minst bestå av for at summen skal bli over 1000?"
   ]
  },
  {
   "cell_type": "code",
   "execution_count": 14,
   "metadata": {},
   "outputs": [
    {
     "name": "stdout",
     "output_type": "stream",
     "text": [
      "3 + 7 + 11 + 15 + 19 + 23 + 27 + 31 + 35 + 39 + 43 + 47 + 51 + 55 + 59 + 63 + 67 + 71 + 75 + 79 + 83 + 87 + 91 + \n",
      "s_23 = 1081\n"
     ]
    }
   ],
   "source": [
    "a = 3\n",
    "sum = 0\n",
    "for n in range(100):\n",
    "    sum = sum + a\n",
    "    print(a, end=' + ')\n",
    "    a = a + 4\n",
    "\n",
    "    if sum > 1000:\n",
    "        break\n",
    "\n",
    "print(\"\")\n",
    "print(f\"s_{n+1} =\", sum)"
   ]
  },
  {
   "cell_type": "markdown",
   "metadata": {},
   "source": [
    "### Eksempel 8\n",
    "\n",
    "En geometrisk rekke har første ledd $a_1 = 32$ og kvotient $k=\\frac{1}{2}$. Finn summen av de seks første leddene i rekka."
   ]
  },
  {
   "cell_type": "code",
   "execution_count": 17,
   "metadata": {},
   "outputs": [
    {
     "name": "stdout",
     "output_type": "stream",
     "text": [
      "s_6 = 63.0\n"
     ]
    }
   ],
   "source": [
    "a = 32\n",
    "sum = 0\n",
    "for n in range(6):\n",
    "    sum = sum + a\n",
    "    #print(a, sum)\n",
    "    a = a*(1/2)\n",
    "\n",
    "print(\"s_6 =\", sum)"
   ]
  },
  {
   "cell_type": "markdown",
   "metadata": {},
   "source": [
    "### Eksempel 9\n",
    "\n",
    "En geometrisk følge er gitt ved at følgens første ledd er 3 og forholdet mellom to ledd som følger etter hverandre, er 2. Kan vi få 3069 ved å summere leddene i følgen?"
   ]
  },
  {
   "cell_type": "code",
   "execution_count": 32,
   "metadata": {},
   "outputs": [
    {
     "name": "stdout",
     "output_type": "stream",
     "text": [
      "s_10 = 3069\n",
      "Vi kan få summen 3069\n"
     ]
    }
   ],
   "source": [
    "a = 3\n",
    "sum = 0\n",
    "for n in range(1, 15):\n",
    "    sum = sum + a\n",
    "    #print(n, sum, end=\", \")\n",
    "    a = a*2\n",
    "\n",
    "    if sum == 3069:\n",
    "        print(f\"s_{n} = {sum}\")\n",
    "        print(\"Vi kan få summen 3069\")\n",
    "        break\n",
    "\n",
    "    elif sum > 3069:\n",
    "        print(\"Vi kan ikke få 3069.\")\n",
    "        break\n"
   ]
  },
  {
   "cell_type": "markdown",
   "metadata": {},
   "source": [
    "### Eksempel 10\n",
    "\n",
    "Oliver er 27 år, nyutdannet og skal begynne i sin første jobb.\n",
    "Han har tenkt å ha samme jobb helt til han er pensjonist om 40 år.\n",
    "Oliver får en begynnerlønn på 500 000 kr per år. Han får to tilbud om lønnsutvikling:\n",
    "\n",
    "- Tilbud A 12 000 i tillegg hvert år\n",
    "- Tilbud B 2 % tillegg hvert år\n",
    "\n",
    "Hvilket av de to tilbudene gir størst livslønn?"
   ]
  },
  {
   "cell_type": "code",
   "execution_count": 123,
   "metadata": {},
   "outputs": [
    {
     "name": "stdout",
     "output_type": "stream",
     "text": [
      "s_40 = 29360000.00\n"
     ]
    }
   ],
   "source": [
    "# tilbud A\n",
    "\n",
    "a = 500000\n",
    "sumA = 0\n",
    "\n",
    "for n in range(40):\n",
    "    sumA = sumA + a\n",
    "    a = a + 12000\n",
    "\n",
    "print(f\"s_{n+1} = {sumA:.2f}\")"
   ]
  },
  {
   "cell_type": "code",
   "execution_count": 124,
   "metadata": {},
   "outputs": [
    {
     "name": "stdout",
     "output_type": "stream",
     "text": [
      "s_40 = 30200991.59\n"
     ]
    }
   ],
   "source": [
    "# tilbud B\n",
    "\n",
    "a = 500000\n",
    "sumB = 0\n",
    "\n",
    "for n in range(40):\n",
    "    sumB = sumB + a\n",
    "    a = a*1.02\n",
    "\n",
    "print(f\"s_{n+1} = {sumB:.2f}\")"
   ]
  },
  {
   "cell_type": "code",
   "execution_count": 126,
   "metadata": {},
   "outputs": [
    {
     "data": {
      "text/plain": [
       "840991.5903712995"
      ]
     },
     "execution_count": 126,
     "metadata": {},
     "output_type": "execute_result"
    }
   ],
   "source": [
    "sumB-sumA"
   ]
  },
  {
   "cell_type": "markdown",
   "metadata": {},
   "source": [
    "Tilbud B gir 840 991,59 kr mer i livslønn."
   ]
  },
  {
   "cell_type": "markdown",
   "metadata": {},
   "source": [
    "## Oppgaver\n",
    "\n",
    "### Oppgave 1.11\n",
    "\n",
    "En aritmetisk rekke har $a_1=-4$ og differanse $d=7$.\n",
    "\n",
    "*a)* Bestem summen av de 20 første leddene\n",
    "i rekka"
   ]
  },
  {
   "cell_type": "code",
   "execution_count": 116,
   "metadata": {},
   "outputs": [
    {
     "name": "stdout",
     "output_type": "stream",
     "text": [
      "s_20 = 1250\n"
     ]
    }
   ],
   "source": [
    "a = -4\n",
    "sum = 0\n",
    "\n",
    "for n in range(20):\n",
    "    sum = sum + a\n",
    "    a = a + 7\n",
    "\n",
    "print(f\"s_{n+1} =\", sum)"
   ]
  },
  {
   "cell_type": "markdown",
   "metadata": {},
   "source": [
    "*b)* Hvor mange ledd må rekka inneholde for at summen skal bli over 10 000?"
   ]
  },
  {
   "cell_type": "code",
   "execution_count": 36,
   "metadata": {},
   "outputs": [
    {
     "name": "stdout",
     "output_type": "stream",
     "text": [
      "s_55 = 10175\n"
     ]
    }
   ],
   "source": [
    "a = -4\n",
    "sum = 0\n",
    "\n",
    "for n in range(60):\n",
    "    sum = sum + a\n",
    "    a = a + 7\n",
    "    \n",
    "    if sum>10000:\n",
    "        break\n",
    "\n",
    "print(f\"s_{n+1} =\", sum)"
   ]
  },
  {
   "cell_type": "markdown",
   "metadata": {},
   "source": [
    "### Oppgave 1.12\n",
    "\n",
    "En rekke er gitt ved $-3+1+5+9+...$\n",
    "\n",
    "*a)* Vis at rekka er aritmetisk."
   ]
  },
  {
   "cell_type": "markdown",
   "metadata": {},
   "source": [
    "$1-(-3)=5-1=9-5=4$"
   ]
  },
  {
   "cell_type": "markdown",
   "metadata": {},
   "source": [
    "*b)* Bestem summen av de sju første leddene, altså $s_7$, uten digitalt verktøy."
   ]
  },
  {
   "cell_type": "code",
   "execution_count": 40,
   "metadata": {},
   "outputs": [
    {
     "name": "stdout",
     "output_type": "stream",
     "text": [
      "s_7 = 63\n"
     ]
    }
   ],
   "source": [
    "a = -3\n",
    "sum = 0\n",
    "for n in range(7):\n",
    "    sum = sum + a\n",
    "    a = a + 4\n",
    "\n",
    "print(f\"s_{n+1} = {sum}\")\n"
   ]
  },
  {
   "cell_type": "markdown",
   "metadata": {},
   "source": [
    "*c)* Hvor mange ledd må vi minst ha med i rekka for at summen skal bli over 600?"
   ]
  },
  {
   "cell_type": "code",
   "execution_count": 43,
   "metadata": {},
   "outputs": [
    {
     "name": "stdout",
     "output_type": "stream",
     "text": [
      "s_19 = 627\n",
      "Vi må minst ha 19 ledd.\n"
     ]
    }
   ],
   "source": [
    "a = -3\n",
    "sum = 0\n",
    "for n in range(20):\n",
    "    sum = sum + a\n",
    "    a = a + 4\n",
    "\n",
    "    if sum > 600:\n",
    "        print(f\"s_{n+1} = {sum}\")\n",
    "        print(f\"Vi må minst ha {n+1} ledd.\")\n",
    "        break\n"
   ]
  },
  {
   "cell_type": "markdown",
   "metadata": {},
   "source": [
    "### Oppgave 1.14\n",
    "\n",
    "Et firma lyser ut en stilling med 500 000 kr i årslønn første år. Hvert år øker de lønna med 5 %.\n",
    "\n",
    "Hvor mye tjener Vartika om hun jobber i firmaet i 40 år?"
   ]
  },
  {
   "cell_type": "code",
   "execution_count": 44,
   "metadata": {},
   "outputs": [
    {
     "name": "stdout",
     "output_type": "stream",
     "text": [
      "s_40 = 60399887.12\n",
      "Veronika tjener 60399887.12 kr i løpet av 40 år i firmaet\n"
     ]
    }
   ],
   "source": [
    "a = 500000\n",
    "sum = 0\n",
    "\n",
    "for n in range(40):\n",
    "    sum = sum + a\n",
    "    a = a*1.05\n",
    "\n",
    "print(f\"s_{n+1} = {sum:.2f}\")\n",
    "print(f\"Veronika tjener {sum:.2f} kr i løpet av 40 år i firmaet\")"
   ]
  },
  {
   "cell_type": "markdown",
   "metadata": {},
   "source": [
    "### Oppgave 1.15\n",
    "\n",
    "Vi har rekka\n",
    "$20+10+5+\\frac{5}{2}+ \\cdots +\\frac{5}{128}$\n",
    "\n",
    "*a)* Bestem summen av rekka."
   ]
  },
  {
   "cell_type": "code",
   "execution_count": 50,
   "metadata": {},
   "outputs": [
    {
     "name": "stdout",
     "output_type": "stream",
     "text": [
      "9\n"
     ]
    }
   ],
   "source": [
    "# Hvor mange ledd tar det før nevneren er 128*4?\n",
    "nevner = 1\n",
    "\n",
    "for n in range(20):\n",
    "    nevner = nevner*2\n",
    "    if nevner == 128*4:\n",
    "        print(n+1)\n",
    "        break\n"
   ]
  },
  {
   "cell_type": "code",
   "execution_count": 51,
   "metadata": {},
   "outputs": [
    {
     "name": "stdout",
     "output_type": "stream",
     "text": [
      "s_9 = 39.92\n"
     ]
    }
   ],
   "source": [
    "# Vi regner så ut summen av de 9 første leddene\n",
    "\n",
    "a = 20\n",
    "sum = 0\n",
    "for n in range(9):\n",
    "    sum = sum + a\n",
    "    a = a/2\n",
    "\n",
    "print(f\"s_{n+1} = {sum:.2f}\")\n",
    "\n",
    "\n",
    "    \n"
   ]
  },
  {
   "cell_type": "markdown",
   "metadata": {},
   "source": [
    "*b)* Hvor mange ledd trenger vi for at summen\n",
    "av rekka skal bli større enn 38?"
   ]
  },
  {
   "cell_type": "code",
   "execution_count": 55,
   "metadata": {},
   "outputs": [
    {
     "name": "stdout",
     "output_type": "stream",
     "text": [
      "s_5 = 38.75\n",
      "Vi trenger 5 ledd.\n"
     ]
    }
   ],
   "source": [
    "a = 20\n",
    "sum = 0\n",
    "for n in range(9):\n",
    "    sum = sum + a\n",
    "    a = a/2\n",
    "    if sum > 38:\n",
    "        break\n",
    "\n",
    "print(f\"s_{n+1} = {sum:.2f}\")\n",
    "print(f\"Vi trenger {n+1} ledd.\")"
   ]
  },
  {
   "cell_type": "markdown",
   "metadata": {},
   "source": [
    "### Oppgave 1.16\n",
    "\n",
    "En rekke er gitt som $4+12+36+108+324+972+2916+\\cdots$.  Stine påstår at hvis vi stopper etter et passende antall ledd, så blir summen av rekka 39 364. Markus mener det ikke er mulig. Hvem har rett?"
   ]
  },
  {
   "cell_type": "code",
   "execution_count": 62,
   "metadata": {},
   "outputs": [
    {
     "name": "stdout",
     "output_type": "stream",
     "text": [
      "s_9 = 39364\n",
      "Stine har rett. Summen blir 39364 med 9 ledd.\n"
     ]
    }
   ],
   "source": [
    "a = 4\n",
    "k = 3\n",
    "sum = 0\n",
    "for n in range(40):\n",
    "    sum = sum + a\n",
    "    a = a*k\n",
    "\n",
    "    if sum == 39364:\n",
    "        print(f\"s_{n+1} = {sum}\")\n",
    "        print(f\"Stine har rett. Summen blir {sum} med {n+1} ledd.\")\n",
    "        break\n",
    "\n",
    "    elif sum > 39364:\n",
    "        print(f\"s_{n+1} = {sum}\")\n",
    "        print(\"Markus har rett.\")\n",
    "        break\n"
   ]
  },
  {
   "cell_type": "markdown",
   "metadata": {},
   "source": [
    "### Oppgave 1.17\n",
    "\n",
    "Noen kobberrør ligger i en stabel. I nederste rad er\n",
    "det 24 rør. I hver rad er det ett rør færre enn i raden\n",
    "under. I øverste rad er det 14 rør.\n",
    "\n",
    "Hvor mange rør ligger det i stabelen?"
   ]
  },
  {
   "cell_type": "markdown",
   "metadata": {},
   "source": [
    "Vi har en aritmetisk rekke med\n",
    "\n",
    "$a_1 = 14$\n",
    "\n",
    "$d = 1$\n",
    "\n",
    "Vi kan bestemme antal rader i stabelen ved å bruke\n",
    "\n",
    "$a_n = a_1 + d(n-1)$\n",
    "\n",
    "$24 = 14 + 1(n-1)$\n",
    "\n",
    "$24 = 14 + n - 1$\n",
    "\n",
    "$11 = n$\n",
    "\n",
    "$n = 11$\n",
    "\n",
    "Alternativ:\n",
    "\n",
    "$1 + \\frac{24-14}{1} = 11$\n",
    "\n",
    "\n",
    "\n"
   ]
  },
  {
   "cell_type": "code",
   "execution_count": 69,
   "metadata": {},
   "outputs": [
    {
     "name": "stdout",
     "output_type": "stream",
     "text": [
      "a_1 = 14\n",
      "a_2 = 15\n",
      "a_3 = 16\n",
      "a_4 = 17\n",
      "a_5 = 18\n",
      "a_6 = 19\n",
      "a_7 = 20\n",
      "a_8 = 21\n",
      "a_9 = 22\n",
      "a_10 = 23\n",
      "a_11 = 24\n"
     ]
    }
   ],
   "source": [
    "# Vi kan også finn det ut med programmering\n",
    "a = 14\n",
    "\n",
    "for n in range(20):\n",
    "    print(f\"a_{n+1} = {a}\")\n",
    "    if a == 24:\n",
    "        break\n",
    "    a = a + 1\n"
   ]
  },
  {
   "cell_type": "code",
   "execution_count": 71,
   "metadata": {},
   "outputs": [
    {
     "name": "stdout",
     "output_type": "stream",
     "text": [
      "s_11 = 209\n",
      "Det ligger 209 kobberrør i stabelen.\n"
     ]
    }
   ],
   "source": [
    "# Så bestemmer vi antall kobberrør i stabelen\n",
    "\n",
    "a = 14\n",
    "sum = 0\n",
    "\n",
    "for n in range(11):\n",
    "    sum = sum + a\n",
    "    a = a + 1\n",
    "\n",
    "print(f\"s_{n+1} = {sum}\")\n",
    "print(f\"Det ligger {sum} kobberrør i stabelen.\")\n"
   ]
  },
  {
   "cell_type": "markdown",
   "metadata": {},
   "source": [
    "### Oppgave 1.64\n",
    "\n",
    "En rekke er gitt ved $2+6+10+\\cdots+42$.\n",
    "\n",
    "*a)* Hva kaller vi en slik rekke, og hva kjennetegner den?\n"
   ]
  },
  {
   "cell_type": "markdown",
   "metadata": {},
   "source": [
    "En aritmetisk rekke:\n",
    "\n",
    "Diferansen:\n",
    "\n",
    "$d = 6-2 = 10-6 = 4 $"
   ]
  },
  {
   "cell_type": "markdown",
   "metadata": {},
   "source": [
    "*b)* Finn et uttrykk for det n-te leddet i denne rekka.\n",
    "\n"
   ]
  },
  {
   "cell_type": "markdown",
   "metadata": {},
   "source": [
    "Eksplisitt formel:\n",
    "\n",
    "$a_n = 2 + 4(n-1)$\n",
    "\n",
    "$a_n = 2 + 4n -4$\n",
    "\n",
    "$a_n = 4n - 2$"
   ]
  },
  {
   "cell_type": "markdown",
   "metadata": {},
   "source": [
    "Rekursiv sammen heng:\n",
    "\n",
    "$a_1 = 2$\n",
    "\n",
    "$a_n = a_{n-1} + 4$"
   ]
  },
  {
   "cell_type": "markdown",
   "metadata": {},
   "source": [
    "*c)* Finn summen av rekka."
   ]
  },
  {
   "cell_type": "markdown",
   "metadata": {},
   "source": [
    "Eksplisitt:\n",
    "\n",
    "$s_n = \\frac{n}{2}(a_1 + a_n)$\n",
    "\n",
    "Antall ledd:\n",
    "\n",
    "$1 + \\frac{42-2}{4} = 11$\n",
    "\n",
    "Det gir oss:\n",
    "\n",
    "$s_{11} = \\frac{11}{2}(2 + 42)$\n",
    "\n",
    "$s_{11}= 22 \\cdot 11 = 242$\n",
    "\n"
   ]
  },
  {
   "cell_type": "code",
   "execution_count": 109,
   "metadata": {},
   "outputs": [
    {
     "name": "stdout",
     "output_type": "stream",
     "text": [
      "s_10 = 242\n"
     ]
    }
   ],
   "source": [
    "#Rekursiv sammenheng\n",
    "\n",
    "a = 2\n",
    "sum = 0\n",
    "for n in range(11):\n",
    "    sum = sum + a\n",
    "    a = a + 4\n",
    "\n",
    "print(f\"s_{n} = {sum}\")"
   ]
  },
  {
   "cell_type": "markdown",
   "metadata": {},
   "source": [
    "### Oppgave 1.72\n",
    "\n",
    "Tante Margit oppretter en hemmelig konto for nevøen sin når han blir født, og setter inn 10 000 kr. Hvert år setter hun inn et nytt beløp, 10 % større enn året før. Renta på bankkontoen er 3 % hele tiden. Etter inn- betalingen på 18-årsdagen får nevøen kontoen.\n",
    "\n",
    "Hvor mye står det på kontoen da?"
   ]
  },
  {
   "cell_type": "code",
   "execution_count": 112,
   "metadata": {},
   "outputs": [
    {
     "name": "stdout",
     "output_type": "stream",
     "text": [
      "Det står 567601.25 kr på kontoen på 18-årsdagen.\n"
     ]
    }
   ],
   "source": [
    "innskudd = 10000\n",
    "konto = 0\n",
    "\n",
    "for n in range(18):\n",
    "    konto = konto + innskudd\n",
    "    konto = konto*1.03\n",
    "\n",
    "    innskudd = innskudd*1.10\n",
    "\n",
    "\n",
    "print(f\"Det står {konto:.2f} kr på kontoen på 18-årsdagen.\")\n"
   ]
  }
 ],
 "metadata": {
  "kernelspec": {
   "display_name": "Python 3.8.9 64-bit",
   "language": "python",
   "name": "python3"
  },
  "language_info": {
   "codemirror_mode": {
    "name": "ipython",
    "version": 3
   },
   "file_extension": ".py",
   "mimetype": "text/x-python",
   "name": "python",
   "nbconvert_exporter": "python",
   "pygments_lexer": "ipython3",
   "version": "3.8.9"
  },
  "orig_nbformat": 4,
  "vscode": {
   "interpreter": {
    "hash": "31f2aee4e71d21fbe5cf8b01ff0e069b9275f58929596ceb00d14d90e3e16cd6"
   }
  }
 },
 "nbformat": 4,
 "nbformat_minor": 2
}
