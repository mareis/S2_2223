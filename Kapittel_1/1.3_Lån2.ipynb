{
 "cells": [
  {
   "cell_type": "markdown",
   "metadata": {},
   "source": [
    "# 1.3 Lån"
   ]
  },
  {
   "cell_type": "code",
   "execution_count": 4,
   "metadata": {},
   "outputs": [
    {
     "name": "stdout",
     "output_type": "stream",
     "text": [
      " 1:   2116000.00 kr\n",
      " 2:   2029480.00 kr\n",
      " 3:   1940364.40 kr\n",
      " 4:   1848575.33 kr\n",
      " 5:   1754032.59 kr\n",
      " 6:   1656653.57 kr\n",
      " 7:   1556353.18 kr\n",
      " 8:   1453043.77 kr\n",
      " 9:   1346635.09 kr\n",
      "10:   1237034.14 kr\n",
      "11:   1124145.16 kr\n",
      "12:   1007869.52 kr\n",
      "13:    888105.60 kr\n",
      "14:    764748.77 kr\n",
      "15:    637691.23 kr\n",
      "16:    506821.97 kr\n",
      "17:    372026.63 kr\n",
      "18:    233187.43 kr\n",
      "19:     90183.05 kr\n",
      "20:    -57111.46 kr\n"
     ]
    }
   ],
   "source": [
    "lån = 2200000\n",
    "vf = 1.03\n",
    "terminbeløp = 150000 #Anuitet\n",
    "år = 0\n",
    "\n",
    "while lån > 0:\n",
    "    år = år + 1\n",
    "    lån = lån*vf - terminbeløp\n",
    "    print(f\"{år:2}: {lån:12.2f} kr\")"
   ]
  },
  {
   "cell_type": "markdown",
   "metadata": {},
   "source": [
    "## 1.79 b"
   ]
  },
  {
   "cell_type": "code",
   "execution_count": 2,
   "metadata": {},
   "outputs": [
    {
     "name": "stdout",
     "output_type": "stream",
     "text": [
      "Total lånekostnad: 344314.14 kr.\n"
     ]
    }
   ],
   "source": [
    "lån = 1000000\n",
    "pf = 0.03\n",
    "vf = 1.03\n",
    "terminbeløp = 67215.71 # Fra a-oppgaven\n",
    "kostnad = 0 # sumen av alle 20 rentene\n",
    "\n",
    "for år in range(1, 21):\n",
    "    år = år + 1\n",
    "    kostnad = kostnad + lån*pf\n",
    "    lån = lån*vf - terminbeløp\n",
    "    #print(f\"{år:2}: {lån:12.2f} kr\")\n",
    "\n",
    "print(f\"Total lånekostnad: {kostnad:.2f} kr.\")\n"
   ]
  },
  {
   "cell_type": "markdown",
   "metadata": {},
   "source": [
    "## 1.80 d"
   ]
  },
  {
   "cell_type": "code",
   "execution_count": 3,
   "metadata": {},
   "outputs": [
    {
     "name": "stdout",
     "output_type": "stream",
     "text": [
      "10: 22974.66 kr\n",
      "11: 46500.71 kr\n",
      "12: 70591.38 kr\n",
      "13: 51805.58 kr\n",
      "14: 76023.57 kr\n",
      "15: 100822.79 kr\n",
      "16: 126217.20 kr\n",
      "17: 152221.07 kr\n"
     ]
    }
   ],
   "source": [
    "saldo = 0\n",
    "vf = 1.024\n",
    "innskudd = 22436.19  # fra oppgave a\n",
    "\n",
    "\n",
    "for alder in range(10,18):\n",
    "    if alder == 13:\n",
    "        saldo = saldo - 20000\n",
    "\n",
    "    else:\n",
    "        saldo = saldo + innskudd\n",
    "\n",
    "    saldo = saldo*vf\n",
    "\n",
    "    print(f\"{alder}: {saldo:8.2f} kr\")\n"
   ]
  },
  {
   "cell_type": "code",
   "execution_count": 1,
   "metadata": {},
   "outputs": [
    {
     "name": "stdout",
     "output_type": "stream",
     "text": [
      " 1:   4355000.00 kr\n",
      " 2:   4205650.00 kr\n",
      " 3:   4051819.50 kr\n",
      " 4:   3893374.08 kr\n",
      " 5:   3730175.31 kr\n",
      " 6:   3562080.57 kr\n",
      " 7:   3388942.98 kr\n",
      " 8:   3210611.27 kr\n",
      " 9:   3026929.61 kr\n",
      "10:   2837737.50 kr\n",
      "11:   2642869.62 kr\n",
      "12:   2442155.71 kr\n",
      "13:   2235420.38 kr\n",
      "14:   2022483.00 kr\n",
      "15:   1803157.49 kr\n",
      "16:   1577252.21 kr\n",
      "17:   1344569.78 kr\n",
      "18:   1104906.87 kr\n",
      "19:    858054.08 kr\n",
      "20:    603795.70 kr\n",
      "21:    341909.57 kr\n",
      "22:     72166.86 kr\n",
      "23:   -205668.14 kr\n"
     ]
    }
   ],
   "source": [
    "lån = 4500000\n",
    "vf = 1.03\n",
    "terminbeløp = 280000 #Anuitet\n",
    "år = 0\n",
    "\n",
    "while lån > 0:\n",
    "    år = år + 1\n",
    "    lån = lån*vf - terminbeløp\n",
    "    print(f\"{år:2}: {lån:12.2f} kr\")"
   ]
  },
  {
   "cell_type": "code",
   "execution_count": null,
   "metadata": {},
   "outputs": [],
   "source": []
  }
 ],
 "metadata": {
  "kernelspec": {
   "display_name": "Python 3.10.6 64-bit",
   "language": "python",
   "name": "python3"
  },
  "language_info": {
   "codemirror_mode": {
    "name": "ipython",
    "version": 3
   },
   "file_extension": ".py",
   "mimetype": "text/x-python",
   "name": "python",
   "nbconvert_exporter": "python",
   "pygments_lexer": "ipython3",
   "version": "3.10.6"
  },
  "orig_nbformat": 4,
  "vscode": {
   "interpreter": {
    "hash": "aee8b7b246df8f9039afb4144a1f6fd8d2ca17a180786b69acc140d282b71a49"
   }
  }
 },
 "nbformat": 4,
 "nbformat_minor": 2
}
