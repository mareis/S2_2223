{
 "cells": [
  {
   "cell_type": "markdown",
   "metadata": {},
   "source": [
    "# Hanois tårn\n",
    "![](Hanois_tårn.png)"
   ]
  },
  {
   "cell_type": "markdown",
   "metadata": {},
   "source": [
    "*a)*\n",
    "\n",
    "$F(3) = 7$"
   ]
  },
  {
   "cell_type": "markdown",
   "metadata": {},
   "source": [
    "*b)*\n",
    "\n",
    "$F(1) = 1$\n",
    "\n",
    "$F(2) = 3$\n",
    "\n",
    "$F(3) = 7$\n",
    "\n",
    "$F(4) = 15$\n",
    "\n",
    "Vi ser at vi kan skrive den rekursive sammenhengen som:\n",
    "\n",
    "$F(n) = 2\\cdot F(n-1) + 1$\n",
    "\n",
    "Alternat notasjon:\n",
    "\n",
    "$a_n = 2 \\cdot a_{n-1} + 1$\n"
   ]
  },
  {
   "cell_type": "code",
   "execution_count": 6,
   "metadata": {},
   "outputs": [
    {
     "name": "stdout",
     "output_type": "stream",
     "text": [
      "1, 3, 7, 15, 31, 63, 127, 255, 511, \n",
      "\n",
      "a_10 = 1023 \n",
      "\n",
      "eller som notasjonen i oppgaven:\n",
      "F(10) = 1023\n"
     ]
    }
   ],
   "source": [
    "a = 1\n",
    "\n",
    "for n in range(1,10):\n",
    "    print(a, end=\", \")\n",
    "    a = 2*a + 1\n",
    "\n",
    "print(\"\\n\")\n",
    "print(f\"a_{n+1} = {a} \\n\")\n",
    "print(f\"eller som notasjonen i oppgaven:\")\n",
    "print(f\"F({n+1}) = {a}\")"
   ]
  },
  {
   "cell_type": "markdown",
   "metadata": {},
   "source": [
    "*c)*\n",
    "\n",
    "Vi kan skrive den eksplisitte formelen for det n-te leddet \n",
    "\n",
    "$F(n) = 2^n - 1$"
   ]
  },
  {
   "cell_type": "code",
   "execution_count": 2,
   "metadata": {},
   "outputs": [
    {
     "name": "stdout",
     "output_type": "stream",
     "text": [
      "1, 3, 7, 15, 31, 63, 127, 255, 511, 1023, "
     ]
    }
   ],
   "source": [
    "# Tester formelen\n",
    "\n",
    "def F(n):\n",
    "    return 2**n - 1\n",
    "\n",
    "for n in range(1,11):\n",
    "    print(F(n), end=\", \")\n",
    "    "
   ]
  },
  {
   "cell_type": "code",
   "execution_count": null,
   "metadata": {},
   "outputs": [],
   "source": []
  }
 ],
 "metadata": {
  "kernelspec": {
   "display_name": "Python 3.8.9 64-bit",
   "language": "python",
   "name": "python3"
  },
  "language_info": {
   "codemirror_mode": {
    "name": "ipython",
    "version": 3
   },
   "file_extension": ".py",
   "mimetype": "text/x-python",
   "name": "python",
   "nbconvert_exporter": "python",
   "pygments_lexer": "ipython3",
   "version": "3.8.9"
  },
  "orig_nbformat": 4,
  "vscode": {
   "interpreter": {
    "hash": "31f2aee4e71d21fbe5cf8b01ff0e069b9275f58929596ceb00d14d90e3e16cd6"
   }
  }
 },
 "nbformat": 4,
 "nbformat_minor": 2
}
