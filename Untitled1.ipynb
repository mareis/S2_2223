{
 "cells": [
  {
   "cell_type": "code",
   "execution_count": null,
   "id": "ec49c6a0-ab5c-4fa9-a0b6-b66a2d90ec1f",
   "metadata": {},
   "outputs": [],
   "source": []
  }
 ],
 "metadata": {
  "kernelspec": {
   "display_name": "",
   "name": ""
  },
  "language_info": {
   "name": ""
  }
 },
 "nbformat": 4,
 "nbformat_minor": 5
}
