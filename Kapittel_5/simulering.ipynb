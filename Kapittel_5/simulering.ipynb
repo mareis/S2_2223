{
 "cells": [
  {
   "cell_type": "code",
   "execution_count": 2,
   "id": "11557ed7-07e0-4878-958d-89fd5466502d",
   "metadata": {},
   "outputs": [
    {
     "name": "stdout",
     "output_type": "stream",
     "text": [
      "0.07024\n"
     ]
    }
   ],
   "source": [
    "from random import randint, choice, sample\n",
    "\n",
    "smågodt = 5*[\"Pære\"] + 3*[\"Smash\"]\n",
    "\n",
    "antSim = 100_000\n",
    "firePærer = 0\n",
    "\n",
    "for n in range(antSim):\n",
    "    uttrekk = sample(smågodt, 4)\n",
    "    #print(uttrekk.count(\"Pære\"))\n",
    "    \n",
    "    if uttrekk.count(\"Pære\") == 4:\n",
    "        firePærer = firePærer + 1\n",
    "        \n",
    "print(firePærer/antSim) "
   ]
  },
  {
   "cell_type": "markdown",
   "id": "5912ef7e-79ef-45c3-b57e-07f54d36cfc8",
   "metadata": {},
   "source": [
    "## Oppgave 5.6\n",
    "på side 285"
   ]
  },
  {
   "cell_type": "code",
   "execution_count": null,
   "id": "9e83e71a-e9c0-414a-8a1d-bf18dbc7b754",
   "metadata": {},
   "outputs": [],
   "source": []
  },
  {
   "cell_type": "markdown",
   "id": "3cfb6296-be89-49a6-affd-88f29bbc09a0",
   "metadata": {},
   "source": [
    "## Oppgave 5.8"
   ]
  },
  {
   "cell_type": "code",
   "execution_count": 3,
   "id": "d6a19d78-7aab-4128-bcb3-bf7aaee2c34d",
   "metadata": {},
   "outputs": [
    {
     "name": "stdout",
     "output_type": "stream",
     "text": [
      "0.44614\n"
     ]
    }
   ],
   "source": [
    "from random import randint, choice, sample\n",
    "\n",
    "lyspærer = 50*[\"virker\"] + 30*[\"defekte\"]\n",
    "ant_sim = 100_000\n",
    "gunstige = 0\n",
    "\n",
    "for n in range(ant_sim):\n",
    "    uttrekk = sample(lyspærer, 3)\n",
    "    if uttrekk.count(\"virker\") == 2:\n",
    "        gunstige = gunstige + 1\n",
    "        \n",
    "    \n",
    "print(gunstige/ant_sim)"
   ]
  },
  {
   "cell_type": "code",
   "execution_count": 102,
   "id": "3e590e3b-c08c-4b1c-95b4-6b4feda599eb",
   "metadata": {},
   "outputs": [
    {
     "name": "stdout",
     "output_type": "stream",
     "text": [
      "0.18126\n"
     ]
    }
   ],
   "source": [
    "from random import randint, choice, sample\n",
    "\n",
    "lyspærer = 50*[\"virker\"] + 30*[\"defekte\"]\n",
    "ant_sim = 100_000\n",
    "gunstige = 0\n",
    "\n",
    "for n in range(ant_sim):\n",
    "    uttrekk = sample(lyspærer, 40)\n",
    "    if uttrekk.count(\"virker\") == 25:\n",
    "        gunstige = gunstige + 1\n",
    "        \n",
    "    \n",
    "print(gunstige/ant_sim)"
   ]
  },
  {
   "cell_type": "code",
   "execution_count": 7,
   "id": "c1aaa05b-9558-4cc1-b1d6-c44df8f6b8f2",
   "metadata": {},
   "outputs": [
    {
     "name": "stdout",
     "output_type": "stream",
     "text": [
      "199548\n",
      "150042\n",
      "0.49506\n"
     ]
    }
   ],
   "source": [
    "from random import choice\n",
    "\n",
    "terning = [1,2,3,4,5,6]\n",
    "\n",
    "A = 0\n",
    "B = 0\n",
    "\n",
    "for kast in range(100000):\n",
    "    utfall = choice(terning)\n",
    "    if utfall in [1,3,5]:\n",
    "        B = B + utfall\n",
    "        \n",
    "    else:\n",
    "        A = A + utfall\n",
    "        \n",
    "print(A)\n",
    "print(B)\n",
    "print((A-B)/100000)"
   ]
  },
  {
   "cell_type": "code",
   "execution_count": 53,
   "id": "179359ec-59cc-4ef3-a53d-8d9bd30337f9",
   "metadata": {},
   "outputs": [
    {
     "name": "stdout",
     "output_type": "stream",
     "text": [
      "Forventningsverdi til A 2.0\n",
      "Forventningsverdi til B 1.5\n"
     ]
    }
   ],
   "source": [
    "from random import choice\n",
    "\n",
    "terning = [1,2,3,4,5,6]\n",
    "\n",
    "A = 0\n",
    "B = 0\n",
    "\n",
    "N = 100_000\n",
    "\n",
    "for kast in range(N):\n",
    "    kast = choice(terning)\n",
    "    if kast in [2, 4, 6]:\n",
    "        A = A + kast\n",
    "        \n",
    "    else:\n",
    "        B = B + kast\n",
    "        \n",
    "print(\"Forventningsverdi til A\", round(A/N,1))\n",
    "print(\"Forventningsverdi til B\", round(B/N,1))\n",
    "\n",
    "\n",
    "        \n",
    "    "
   ]
  },
  {
   "cell_type": "code",
   "execution_count": 13,
   "id": "1001f9cf-cb9c-48ec-bb9e-af1786ce795d",
   "metadata": {},
   "outputs": [
    {
     "name": "stdout",
     "output_type": "stream",
     "text": [
      "6\n"
     ]
    }
   ],
   "source": [
    "from random import randint\n",
    "\n",
    "kast = randint(1,6)\n",
    "print(kast)"
   ]
  },
  {
   "cell_type": "markdown",
   "id": "90555530-0ad4-4816-8c03-2529a6f35fe9",
   "metadata": {},
   "source": [
    "### Oppgave 5.73"
   ]
  },
  {
   "cell_type": "code",
   "execution_count": 36,
   "id": "8e7b495d-d14c-44f4-8d91-5b26fc135ada",
   "metadata": {},
   "outputs": [
    {
     "name": "stdout",
     "output_type": "stream",
     "text": [
      "[0.04 0.3  0.48 0.18]\n"
     ]
    }
   ],
   "source": [
    "from random import randint, choice, sample\n",
    "import numpy as np\n",
    "\n",
    "h_lomme = 3*[\"en\"] + 2*[\"ti\"]\n",
    "v_lomme = 3*[\"en\"] + 2*[\"ti\"]\n",
    "\n",
    "ant_sim = 100_000\n",
    "\n",
    "fordeling = np.array([0,0,0,0])\n",
    "\n",
    "for n in range(ant_sim):\n",
    "    uttrekk = sample(h_lomme, 2) + sample(v_lomme, 1)\n",
    "    fordeling[uttrekk.count(\"en\")] += 1\n",
    "        \n",
    "        \n",
    "fordeling = fordeling/ant_sim\n",
    "\n",
    "print(np.round(fordeling, 2))"
   ]
  },
  {
   "cell_type": "code",
   "execution_count": 34,
   "id": "0c9d4ea8-e110-4bae-b587-f27d0fae8dff",
   "metadata": {},
   "outputs": [
    {
     "data": {
      "image/png": "[encoded data removed]",
      "text/plain": [
       "<Figure size 640x480 with 1 Axes>"
      ]
     },
     "metadata": {},
     "output_type": "display_data"
    }
   ],
   "source": [
    "import matplotlib.pyplot as plt\n",
    "\n",
    "plt.title(\"Sannsynlighetsfordelingen til T\")\n",
    "plt.bar(['0','1','2','3'], fordeling)\n",
    "plt.show()"
   ]
  },
  {
   "cell_type": "markdown",
   "id": "3c4b1e32-3f41-4564-aab6-c29f70e6ce99",
   "metadata": {},
   "source": [
    "Sigrid har to terninger som hun syntes mistenkelig ofte gir seksere. Hun testet derfor de to terningene ved å kaste dem 100 ganger og telle opp antall ganger begge terningene gav seksere.\n",
    "Det viste seg begge terningene gav seksere sju ganger.\n",
    "Bruk det du har lært om hypotesetesting og sannsynlighet til å avgjøre om Sigrid kan ha grunn til mistanken. Synliggjør de forutsetningene du mener er nødvendige for utregningene dine."
   ]
  },
  {
   "cell_type": "code",
   "execution_count": 65,
   "id": "e0b51fef-17b2-42f7-a5c3-2cd082c2d92c",
   "metadata": {},
   "outputs": [
    {
     "data": {
      "image/png": "[encoded data removed]",
      "text/plain": [
       "<Figure size 640x480 with 1 Axes>"
      ]
     },
     "metadata": {},
     "output_type": "display_data"
    },
    {
     "data": {
      "image/png": "[encoded data removed]",
      "text/plain": [
       "<Figure size 640x480 with 1 Axes>"
      ]
     },
     "metadata": {},
     "output_type": "display_data"
    },
    {
     "name": "stdout",
     "output_type": "stream",
     "text": [
      "0.0037\n",
      "0.0037\n",
      "1.369e-05\n"
     ]
    }
   ],
   "source": [
    "import numpy as np\n",
    "import matplotlib.pyplot as plt\n",
    "\n",
    "t1_utfall = []\n",
    "t2_utfall = []\n",
    "\n",
    "sim = 100_000\n",
    "\n",
    "for i in range(sim):\n",
    "    t1 = np.random.binomial(n=1, p=1/6, size=100)\n",
    "    t2 = np.random.binomial(n=1, p=1/6, size=100)\n",
    "\n",
    "\n",
    "    t1_utfall.append(sum(t1))\n",
    "    t2_utfall.append(sum(t1))\n",
    "    \n",
    "    \n",
    "\n",
    "t1_utfall = np.array(t1_utfall)\n",
    "t2_utfall = np.array(t2_utfall)\n",
    "\n",
    "\n",
    "mu, sigma = 1/6*100, np.sqrt(100*1/6*(1-1/6)) \n",
    "bins = 31\n",
    "\n",
    "plt.hist(t1_utfall, bins)\n",
    "plt.show()\n",
    "plt.hist(t2_utfall, bins)\n",
    "plt.show()\n",
    "\n",
    "\n",
    "\n",
    "print(np.count_nonzero(t1_utfall <= 7)/sim)\n",
    "print(np.count_nonzero(t2_utfall <= 7)/sim)\n",
    "print(np.count_nonzero(t1_utfall <= 7)**2/sim**2)"
   ]
  },
  {
   "cell_type": "code",
   "execution_count": 81,
   "id": "593d11f4-d6c1-4bad-9c84-10349398b530",
   "metadata": {},
   "outputs": [
    {
     "data": {
      "image/png": "[encoded data removed]",
      "text/plain": [
       "<Figure size 640x480 with 1 Axes>"
      ]
     },
     "metadata": {},
     "output_type": "display_data"
    }
   ],
   "source": [
    "mu, sigma = 1/6*100, np.sqrt(100*1/6*(1-1/6)) \n",
    "s = np.random.normal(mu, sigma, 100000)\n",
    "bins = 100\n",
    "\n",
    "plt.hist(s, bins, density=True)\n",
    "plt.show()"
   ]
  },
  {
   "cell_type": "code",
   "execution_count": null,
   "id": "177c6997-ffd6-45ca-b45c-11bad955fdb1",
   "metadata": {},
   "outputs": [],
   "source": [
    "t = [1,2,3,4,5,6]\n",
    "m = 150*3.5\n",
    "sim = 10000\n",
    "var\n",
    "for i in range(sim):\n",
    "    s = 0\n",
    "    for i in range(100):\n",
    "        s += choice(terning)\n",
    "        \n",
    "    \n",
    "    var += (s-m)**2\n",
    "    \n",
    "        \n",
    "    "
   ]
  },
  {
   "cell_type": "code",
   "execution_count": 2,
   "id": "5c564c4d-3cfc-463a-983d-d4c37019c8f2",
   "metadata": {},
   "outputs": [
    {
     "name": "stdout",
     "output_type": "stream",
     "text": [
      "0.082\n"
     ]
    }
   ],
   "source": [
    "from random import sample\n",
    "import numpy as np\n",
    "\n",
    "pute_1 = 2*[\"sokk\"] + 5*[\"peanøtt\"] + 2*[\"fjernkontroll\"]\n",
    "pute_2 = 1*[\"sokk\"] + 7*[\"peanøtt\"] + 3*[\"fjernkontroll\"]\n",
    "\n",
    "ant_sim = 100_000\n",
    "gunstige = 0\n",
    "\n",
    "for n in range(ant_sim):\n",
    "    uttrekk_1 = sample(pute_1, 2)\n",
    "    uttrekk_2 = sample(pute_2, 3)\n",
    "    uttrekk = uttrekk_1 + uttrekk_2\n",
    "    \n",
    "    if uttrekk.count(\"fjernkontroll\") >= 3:\n",
    "        gunstige = gunstige + 1\n",
    "        \n",
    "        \n",
    "\n",
    "print(np.round(gunstige/ant_sim, 3))"
   ]
  },
  {
   "cell_type": "code",
   "execution_count": 12,
   "id": "75aee049-0e1d-45f1-8273-fa0a8c9b793f",
   "metadata": {},
   "outputs": [
    {
     "name": "stdout",
     "output_type": "stream",
     "text": [
      "1.268\n"
     ]
    }
   ],
   "source": [
    "from random import sample\n",
    "\n",
    "pute_1 = 2*[\"sokk\"] + 5*[\"pianøtt\"] + 2*[\"fjernkontroll\"]\n",
    "pute_2 = 1*[\"sokk\"] + 7*[\"pianøtt\"] + 3*[\"fjernkontroll\"]\n",
    "\n",
    "ant_sim = 100_000\n",
    "summ = 0\n",
    "\n",
    "for n in range(ant_sim):\n",
    "    uttrekk_1 = sample(pute_1, 2)\n",
    "    uttrekk_2 = sample(pute_2, 3)\n",
    "    uttrekk = uttrekk_1 + uttrekk_2\n",
    "    \n",
    "    summ = summ + uttrekk.count(\"fjernkontroll\")\n",
    "        \n",
    "        \n",
    "\n",
    "print(np.round(summ/ant_sim, 3))"
   ]
  },
  {
   "cell_type": "code",
   "execution_count": 19,
   "id": "34e45e74-a239-4c6b-91f7-2992bc752f87",
   "metadata": {},
   "outputs": [
    {
     "name": "stdout",
     "output_type": "stream",
     "text": [
      "Forventningsverdi -20.0\n"
     ]
    }
   ],
   "source": [
    "from random import choice\n",
    "\n",
    "t1 = [1,2,3,4]\n",
    "t2 = [1,2,3,4]\n",
    "\n",
    "gevinst = 0\n",
    "\n",
    "sim = 1_000_000\n",
    "\n",
    "for k in range(sim):\n",
    "    kast1 = choice(t1)\n",
    "    kast2 = choice(t2)\n",
    "    summ = kast1+kast2\n",
    "    \n",
    "    if summ in [4, 5, 6]:\n",
    "        gevinst += -100\n",
    "        \n",
    "    elif summ in [3, 7]:\n",
    "        gevinst += 20\n",
    "        \n",
    "    elif summ in [2, 8]:\n",
    "        gevinst += 300\n",
    "        \n",
    "        \n",
    "print(\"Forventningsverdi\", round(gevinst/sim, 1))"
   ]
  },
  {
   "cell_type": "code",
   "execution_count": null,
   "id": "97d839c5-c8df-4a78-abbc-26320ff5bc47",
   "metadata": {},
   "outputs": [],
   "source": []
  }
 ],
 "metadata": {
  "kernelspec": {
   "display_name": "Python 3 (ipykernel)",
   "language": "python",
   "name": "python3"
  },
  "language_info": {
   "codemirror_mode": {
    "name": "ipython",
    "version": 3
   },
   "file_extension": ".py",
   "mimetype": "text/x-python",
   "name": "python",
   "nbconvert_exporter": "python",
   "pygments_lexer": "ipython3",
   "version": "3.8.13"
  }
 },
 "nbformat": 4,
 "nbformat_minor": 5
}
