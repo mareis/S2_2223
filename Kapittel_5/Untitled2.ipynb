{
 "cells": [
  {
   "cell_type": "markdown",
   "id": "201ebd4e-c984-45e5-a7db-0eff5fa3f36e",
   "metadata": {},
   "source": [
    "SET n TO 5 \n",
    "SET k TO 0\n",
    "WHILE k LESSER THAN n-1 \n",
    "    SET temp TO navn[k]\n",
    "    SET navn[k] TO navn[n-k-1]\n",
    "    SET nanv[n-k-1] TO temp\n",
    "    INCREMENT k\n",
    "ENDWHILE"
   ]
  },
  {
   "cell_type": "code",
   "execution_count": 6,
   "id": "615306fa-8374-4b5b-aaf7-c5a5f3ee3b39",
   "metadata": {},
   "outputs": [
    {
     "name": "stdout",
     "output_type": "stream",
     "text": [
      "[5, 2, 3, 4, 1]\n",
      "1 5\n",
      "[5, 4, 3, 2, 1]\n",
      "2 5\n",
      "[5, 4, 3, 2, 1]\n",
      "3 5\n",
      "[5, 2, 3, 4, 1]\n",
      "4 5\n"
     ]
    }
   ],
   "source": [
    "navn = [1,2,3,4,5]\n",
    "n = 5\n",
    "k = 0\n",
    "while k < n-1:\n",
    "    temp = navn[k]\n",
    "    navn[k] = navn[n-k-1]\n",
    "    navn[n-k-1] = temp\n",
    "    k+=1\n",
    "    print(navn)\n",
    "    print(k, n)\n",
    "    \n"
   ]
  },
  {
   "cell_type": "code",
   "execution_count": null,
   "id": "f6289d99-1fae-4cea-bad0-6709c0cd8f53",
   "metadata": {},
   "outputs": [],
   "source": []
  }
 ],
 "metadata": {
  "kernelspec": {
   "display_name": "Python 3 (ipykernel)",
   "language": "python",
   "name": "python3"
  },
  "language_info": {
   "codemirror_mode": {
    "name": "ipython",
    "version": 3
   },
   "file_extension": ".py",
   "mimetype": "text/x-python",
   "name": "python",
   "nbconvert_exporter": "python",
   "pygments_lexer": "ipython3",
   "version": "3.8.13"
  }
 },
 "nbformat": 4,
 "nbformat_minor": 5
}
