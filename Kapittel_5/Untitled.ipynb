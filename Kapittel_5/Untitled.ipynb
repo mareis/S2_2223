{
 "cells": [
  {
   "cell_type": "code",
   "execution_count": 2,
   "id": "889dcf85-45b5-4bcc-9e33-6fa350259f5a",
   "metadata": {},
   "outputs": [
    {
     "data": {
      "text/plain": [
       "1.2117668148243481"
      ]
     },
     "execution_count": 2,
     "metadata": {},
     "output_type": "execute_result"
    }
   ],
   "source": [
    "import numpy as np\n",
    "\n",
    "\n",
    "frekvenser = np.array([215778, 522177, 270179, 63053, 16618])\n",
    "søsken = np.array([0,1,2,3,4])\n",
    "\n",
    "μ = sum(frekvenser*søsken)/sum(frekvenser)\n",
    "μ"
   ]
  },
  {
   "cell_type": "code",
   "execution_count": null,
   "id": "df15984d-a3e3-428f-955a-1f6a4afe3277",
   "metadata": {},
   "outputs": [],
   "source": []
  }
 ],
 "metadata": {
  "kernelspec": {
   "display_name": "Python 3 (ipykernel)",
   "language": "python",
   "name": "python3"
  },
  "language_info": {
   "codemirror_mode": {
    "name": "ipython",
    "version": 3
   },
   "file_extension": ".py",
   "mimetype": "text/x-python",
   "name": "python",
   "nbconvert_exporter": "python",
   "pygments_lexer": "ipython3",
   "version": "3.8.13"
  }
 },
 "nbformat": 4,
 "nbformat_minor": 5
}
