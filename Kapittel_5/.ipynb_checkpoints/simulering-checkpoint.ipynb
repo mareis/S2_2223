{
 "cells": [
  {
   "cell_type": "code",
   "execution_count": 2,
   "id": "11557ed7-07e0-4878-958d-89fd5466502d",
   "metadata": {},
   "outputs": [
    {
     "name": "stdout",
     "output_type": "stream",
     "text": [
      "0.07024\n"
     ]
    }
   ],
   "source": [
    "from random import randint, choice, sample\n",
    "\n",
    "smågodt = 5*[\"Pære\"] + 3*[\"Smash\"]\n",
    "\n",
    "antSim = 100_000\n",
    "firePærer = 0\n",
    "\n",
    "for n in range(antSim):\n",
    "    uttrekk = sample(smågodt, 4)\n",
    "    #print(uttrekk.count(\"Pære\"))\n",
    "    \n",
    "    if uttrekk.count(\"Pære\") == 4:\n",
    "        firePærer = firePærer + 1\n",
    "        \n",
    "print(firePærer/antSim) "
   ]
  },
  {
   "cell_type": "markdown",
   "id": "5912ef7e-79ef-45c3-b57e-07f54d36cfc8",
   "metadata": {},
   "source": [
    "## Oppgave 5.6\n",
    "på side 285"
   ]
  },
  {
   "cell_type": "code",
   "execution_count": null,
   "id": "9e83e71a-e9c0-414a-8a1d-bf18dbc7b754",
   "metadata": {},
   "outputs": [],
   "source": []
  },
  {
   "cell_type": "markdown",
   "id": "3cfb6296-be89-49a6-affd-88f29bbc09a0",
   "metadata": {},
   "source": [
    "## Oppgave 5.8"
   ]
  },
  {
   "cell_type": "code",
   "execution_count": 3,
   "id": "d6a19d78-7aab-4128-bcb3-bf7aaee2c34d",
   "metadata": {},
   "outputs": [
    {
     "name": "stdout",
     "output_type": "stream",
     "text": [
      "0.44614\n"
     ]
    }
   ],
   "source": [
    "from random import randint, choice, sample\n",
    "\n",
    "lyspærer = 50*[\"virker\"] + 30*[\"defekte\"]\n",
    "ant_sim = 100_000\n",
    "gunstige = 0\n",
    "\n",
    "for n in range(ant_sim):\n",
    "    uttrekk = sample(lyspærer, 3)\n",
    "    if uttrekk.count(\"virker\") == 2:\n",
    "        gunstige = gunstige + 1\n",
    "        \n",
    "    \n",
    "print(gunstige/ant_sim)"
   ]
  },
  {
   "cell_type": "code",
   "execution_count": 102,
   "id": "3e590e3b-c08c-4b1c-95b4-6b4feda599eb",
   "metadata": {},
   "outputs": [
    {
     "name": "stdout",
     "output_type": "stream",
     "text": [
      "0.18126\n"
     ]
    }
   ],
   "source": [
    "from random import randint, choice, sample\n",
    "\n",
    "lyspærer = 50*[\"virker\"] + 30*[\"defekte\"]\n",
    "ant_sim = 100_000\n",
    "gunstige = 0\n",
    "\n",
    "for n in range(ant_sim):\n",
    "    uttrekk = sample(lyspærer, 40)\n",
    "    if uttrekk.count(\"virker\") == 25:\n",
    "        gunstige = gunstige + 1\n",
    "        \n",
    "    \n",
    "print(gunstige/ant_sim)"
   ]
  },
  {
   "cell_type": "code",
   "execution_count": 7,
   "id": "c1aaa05b-9558-4cc1-b1d6-c44df8f6b8f2",
   "metadata": {},
   "outputs": [
    {
     "name": "stdout",
     "output_type": "stream",
     "text": [
      "199548\n",
      "150042\n",
      "0.49506\n"
     ]
    }
   ],
   "source": [
    "from random import choice\n",
    "\n",
    "terning = [1,2,3,4,5,6]\n",
    "\n",
    "A = 0\n",
    "B = 0\n",
    "\n",
    "for kast in range(100000):\n",
    "    utfall = choice(terning)\n",
    "    if utfall in [1,3,5]:\n",
    "        B = B + utfall\n",
    "        \n",
    "    else:\n",
    "        A = A + utfall\n",
    "        \n",
    "print(A)\n",
    "print(B)\n",
    "print((A-B)/100000)"
   ]
  },
  {
   "cell_type": "code",
   "execution_count": 53,
   "id": "179359ec-59cc-4ef3-a53d-8d9bd30337f9",
   "metadata": {},
   "outputs": [
    {
     "name": "stdout",
     "output_type": "stream",
     "text": [
      "Forventningsverdi til A 2.0\n",
      "Forventningsverdi til B 1.5\n"
     ]
    }
   ],
   "source": [
    "from random import choice\n",
    "\n",
    "terning = [1,2,3,4,5,6]\n",
    "\n",
    "A = 0\n",
    "B = 0\n",
    "\n",
    "N = 100_000\n",
    "\n",
    "for kast in range(N):\n",
    "    kast = choice(terning)\n",
    "    if kast in [2, 4, 6]:\n",
    "        A = A + kast\n",
    "        \n",
    "    else:\n",
    "        B = B + kast\n",
    "        \n",
    "print(\"Forventningsverdi til A\", round(A/N,1))\n",
    "print(\"Forventningsverdi til B\", round(B/N,1))\n",
    "\n",
    "\n",
    "        \n",
    "    "
   ]
  },
  {
   "cell_type": "code",
   "execution_count": 13,
   "id": "1001f9cf-cb9c-48ec-bb9e-af1786ce795d",
   "metadata": {},
   "outputs": [
    {
     "name": "stdout",
     "output_type": "stream",
     "text": [
      "6\n"
     ]
    }
   ],
   "source": [
    "from random import randint\n",
    "\n",
    "kast = randint(1,6)\n",
    "print(kast)"
   ]
  },
  {
   "cell_type": "code",
   "execution_count": 9,
   "id": "6fa9e168-a3ef-40d2-ac3d-1f463e5eecb0",
   "metadata": {},
   "outputs": [
    {
     "name": "stdin",
     "output_type": "stream",
     "text": [
      "Løs for trykk (1) eller volum (2) 2\n",
      "n:  1\n",
      "T:  2\n",
      "V:  0\n"
     ]
    },
    {
     "name": "stdout",
     "output_type": "stream",
     "text": [
      "skriv inn et tall\n"
     ]
    },
    {
     "name": "stdin",
     "output_type": "stream",
     "text": [
      "V:  0\n"
     ]
    },
    {
     "name": "stdout",
     "output_type": "stream",
     "text": [
      "skriv inn et tall\n"
     ]
    },
    {
     "name": "stdin",
     "output_type": "stream",
     "text": [
      "V:  8\n"
     ]
    },
    {
     "name": "stdout",
     "output_type": "stream",
     "text": [
      "2.07861495\n"
     ]
    }
   ],
   "source": [
    "\n",
    "def formel(n, T, x):\n",
    "    return n*T*8.3144598/x\n",
    "\n",
    "\n",
    "var = [\"P\",\"V\"]\n",
    "var = var[int(input(\"Løs for trykk (1) eller volum (2)\")) - 1]\n",
    "\n",
    "v = {\"n\":None, \"T\":None, \"P\":None, \"V\":None}\n",
    "\n",
    "for variabel in [\"n\",\"T\",f\"{var}\"]:\n",
    "    while True:\n",
    "        try:\n",
    "            v[variabel] = float(input(f\"{variabel}: \"))   \n",
    "            if variabel in [\"P\",\"V\"] and v[variabel] == 0:\n",
    "                raise ValueError\n",
    "            break\n",
    "        except ValueError:\n",
    "            print(\"skriv inn et tall\")\n",
    "    \n",
    "print(f'{formel(v[\"n\"], v[\"T\"], v[variabel])}')\n",
    "    \n",
    "    \n",
    "\n",
    "i"
   ]
  },
  {
   "cell_type": "code",
   "execution_count": null,
   "id": "8e7b495d-d14c-44f4-8d91-5b26fc135ada",
   "metadata": {},
   "outputs": [],
   "source": []
  }
 ],
 "metadata": {
  "kernelspec": {
   "display_name": "Python 3 (ipykernel)",
   "language": "python",
   "name": "python3"
  },
  "language_info": {
   "codemirror_mode": {
    "name": "ipython",
    "version": 3
   },
   "file_extension": ".py",
   "mimetype": "text/x-python",
   "name": "python",
   "nbconvert_exporter": "python",
   "pygments_lexer": "ipython3",
   "version": "3.8.13"
  }
 },
 "nbformat": 4,
 "nbformat_minor": 5
}
