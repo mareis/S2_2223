{
 "cells": [
  {
   "cell_type": "code",
   "execution_count": 44,
   "id": "94c11fc1-ac70-4812-b9a5-ce89e2cf4070",
   "metadata": {},
   "outputs": [
    {
     "data": {
      "text/plain": [
       "0.414072"
      ]
     },
     "execution_count": 44,
     "metadata": {},
     "output_type": "execute_result"
    }
   ],
   "source": [
    "import numpy as np\n",
    "from numpy.random import normal, choice\n",
    "\n",
    "ant_sim = 1000_000\n",
    "\n",
    "mu, sigma = 180, 8 \n",
    "gutter = normal(mu, sigma, 301)\n",
    "\n",
    "mu, sigma = 168, 6 \n",
    "jenter = normal(mu, sigma, 323)\n",
    "\n",
    "\n",
    "skole = np.concatenate([jenter, gutter])\n",
    "\n",
    "\n",
    "uttrekk = choice(skole, ant_sim)\n",
    "(uttrekk>175).sum()/ant_sim"
   ]
  },
  {
   "cell_type": "code",
   "execution_count": 48,
   "id": "e5bcbca6-17e7-43d9-82d3-1b5c892c8bca",
   "metadata": {},
   "outputs": [
    {
     "data": {
      "text/plain": [
       "0.414"
      ]
     },
     "execution_count": 49,
     "metadata": {},
     "output_type": "execute_result"
    }
   ],
   "source": [
    "from numpy.random import normal, choice\n",
    "\n",
    "ant_sim = 10_000\n",
    "elever = ['Gutt']*301 + ['Jente']*323\n",
    "over_175 = 0\n",
    "\n",
    "for n in range(ant_sim):\n",
    "\n",
    "    if choice(elever) == 'Jente':\n",
    "        høyde = normal(168, 6)\n",
    "        \n",
    "    else:\n",
    "        høyde = normal(180, 8)\n",
    "    \n",
    "    if høyde > 175:\n",
    "        over_175 += 1\n",
    "        \n",
    "\n",
    "over_175/ant_sim"
   ]
  },
  {
   "cell_type": "code",
   "execution_count": 82,
   "id": "4f102a25-9fe9-4a8a-a9a6-ad5935d52c97",
   "metadata": {},
   "outputs": [
    {
     "data": {
      "text/plain": [
       "0.4137"
      ]
     },
     "execution_count": 82,
     "metadata": {},
     "output_type": "execute_result"
    }
   ],
   "source": [
    "from numpy.random import choice, normal\n",
    "\n",
    "elever = ['Gutt']*301 + ['Jente']*323\n",
    "over_175 = 0\n",
    "\n",
    "ant_sim = 10_000\n",
    "for n in range(ant_sim):\n",
    "    if choice(elever) == 'Jente':\n",
    "        høyde = normal(168, 6)\n",
    "\n",
    "    else:\n",
    "        høyde = normal(180, 8)\n",
    "\n",
    "\n",
    "    if høyde > 175:\n",
    "        over_175 += 1\n",
    "    \n",
    "over_175/ant_sim"
   ]
  },
  {
   "cell_type": "code",
   "execution_count": null,
   "id": "ae88a05c-6165-4bb4-a474-945f3d0649e2",
   "metadata": {},
   "outputs": [],
   "source": []
  }
 ],
 "metadata": {
  "kernelspec": {
   "display_name": "Python 3 (ipykernel)",
   "language": "python",
   "name": "python3"
  },
  "language_info": {
   "codemirror_mode": {
    "name": "ipython",
    "version": 3
   },
   "file_extension": ".py",
   "mimetype": "text/x-python",
   "name": "python",
   "nbconvert_exporter": "python",
   "pygments_lexer": "ipython3",
   "version": "3.8.13"
  }
 },
 "nbformat": 4,
 "nbformat_minor": 5
}
