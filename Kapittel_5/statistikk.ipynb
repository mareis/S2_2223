{
 "cells": [
  {
   "cell_type": "markdown",
   "id": "be6c4a72-5c0e-4c91-b313-4494684051f0",
   "metadata": {},
   "source": [
    "## Forventningsverdi\n",
    "\n",
    "fra frekvenstabell"
   ]
  },
  {
   "cell_type": "code",
   "execution_count": 28,
   "id": "07b41045-9c2d-4189-abc4-0e7a360dbe95",
   "metadata": {},
   "outputs": [
    {
     "name": "stdout",
     "output_type": "stream",
     "text": [
      "Forventningsverdi: μ = E(X) tilnærmet lik 1.21\n"
     ]
    }
   ],
   "source": [
    "import numpy as np\n",
    "\n",
    "utfall = np.array([0, 1, 2, 3, 4])\n",
    "frekvens = np.array([215_778, 522_177, 270_179, 63_053, 16_618])\n",
    "\n",
    "gjennomsnitt = sum(utfall*frekvens)/sum(frekvens)\n",
    "\n",
    "print(f\"Forventningsverdi: μ = E(X) tilnærmet lik {gjennomsnitt:.2f}\")"
   ]
  },
  {
   "cell_type": "markdown",
   "id": "b25d00a2-30a1-4ce9-9730-a18185eb39ac",
   "metadata": {},
   "source": [
    "## Varians og standardavvik\n",
    "\n",
    "fra fekvenstabell"
   ]
  },
  {
   "cell_type": "code",
   "execution_count": 29,
   "id": "97eb047b-1721-4d68-9a76-ee7b3573c234",
   "metadata": {},
   "outputs": [
    {
     "name": "stdout",
     "output_type": "stream",
     "text": [
      "Varians: σ^2 = Var(X) = tilnærmet lik 0.77\n",
      "Standardavvik: σ = Std(X) tilnærmet lik 0.88\n"
     ]
    }
   ],
   "source": [
    "varians = sum(frekvens*(utfall - gjennomsnitt)**2)/sum(frekvens)\n",
    "\n",
    "print(f'Varians: σ^2 = Var(X) = tilnærmet lik {varians:.2f}')\n",
    "print(f'Standardavvik: σ = Std(X) tilnærmet lik {np.sqrt(varians):.2f}')"
   ]
  },
  {
   "cell_type": "markdown",
   "id": "fd371b8e-82eb-4522-90cf-b7d14bed56b9",
   "metadata": {},
   "source": [
    "### Oppgave 2.18"
   ]
  },
  {
   "cell_type": "code",
   "execution_count": 27,
   "id": "b2806662-73b4-450a-8f8a-5dbd2b8e61b3",
   "metadata": {},
   "outputs": [
    {
     "name": "stdout",
     "output_type": "stream",
     "text": [
      "Forventningsverdi: μ = E(X) tilnærmet lik 3.40\n",
      "Varians: σ^2 = Var(X) tilnærmet lik 1.77\n",
      "Standardavvik: σ = Std(X) tilnærmet lik 1.33\n"
     ]
    }
   ],
   "source": [
    "import numpy as np\n",
    "\n",
    "utfall = np.array([1, 2, 3, 4, 5, 6])\n",
    "frekvens = np.array([3, 4, 9, 8, 4, 2])\n",
    "\n",
    "gjennomsnitt = sum(utfall*frekvens)/sum(frekvens)\n",
    "\n",
    "print(f\"Forventningsverdi: μ = E(X) tilnærmet lik {gjennomsnitt:.2f}\")\n",
    "\n",
    "varians = sum(frekvens*(utfall - gjennomsnitt)**2)/sum(frekvens)\n",
    "standardavvik = np.sqrt(varians)\n",
    "\n",
    "print(f'Varians: σ^2 = Var(X) tilnærmet lik {varians:.2f}')\n",
    "print(f'Standardavvik: σ = Std(X) tilnærmet lik {standardavvik:.2f}')"
   ]
  },
  {
   "cell_type": "markdown",
   "id": "0976bc85-0ecc-46c7-a631-3f92b966e5df",
   "metadata": {},
   "source": [
    "## Forventningsverdi\n",
    "\n",
    "fra en sannsynlighetsfordeling"
   ]
  },
  {
   "cell_type": "code",
   "execution_count": 30,
   "id": "af81c0bd-8a90-43af-a7e1-060404197f76",
   "metadata": {},
   "outputs": [
    {
     "name": "stdout",
     "output_type": "stream",
     "text": [
      "Forventningsverdi: μ = E(X) = 3.50\n"
     ]
    }
   ],
   "source": [
    "import numpy as np\n",
    "\n",
    "utfall = np.array([1, 2, 3, 4, 5, 6])\n",
    "sannsynlighet = np.array([1/6, 1/6, 1/6, 1/6, 1/6, 1/6])\n",
    "\n",
    "gjennomsnitt = sum(sannsynlighet*utfall)\n",
    "\n",
    "print(f\"Forventningsverdi: μ = E(X) = {gjennomsnitt:.2f}\")"
   ]
  },
  {
   "cell_type": "markdown",
   "id": "dc0356f7-6a9a-4340-bcfc-1db4bd6de7f6",
   "metadata": {},
   "source": [
    "## Varians og standardavvik\n",
    "\n",
    "fra en sannsynlighetsfordeling"
   ]
  },
  {
   "cell_type": "code",
   "execution_count": 23,
   "id": "2d44a3e2-2fd4-4ad3-88df-bb4c79de29ed",
   "metadata": {},
   "outputs": [
    {
     "name": "stdout",
     "output_type": "stream",
     "text": [
      "Varians: σ^2 = Var(X) = 1.20\n",
      "Standardavvik: σ = Std(X) = 1.10\n"
     ]
    }
   ],
   "source": [
    "varians = sum(sannsynlighet*(utfall - gjennomsnitt)**2)\n",
    "standardavvik = np.sqrt(varians)\n",
    "\n",
    "print(f'Varians: σ^2 = Var(X) = {varians:.2f}')\n",
    "print(f'Standardavvik: σ = Std(X) = {standardavvik:.2f}')"
   ]
  },
  {
   "cell_type": "markdown",
   "id": "550df65e-59d6-4523-bc62-c40214922087",
   "metadata": {},
   "source": [
    "### Oppgave 3.20"
   ]
  },
  {
   "cell_type": "code",
   "execution_count": 22,
   "id": "a0a47b2b-f5e1-4490-90b0-247472131ecc",
   "metadata": {},
   "outputs": [
    {
     "name": "stdout",
     "output_type": "stream",
     "text": [
      "μ = E(X) = 1.00\n",
      "Varians: σ^2 = Var(X) = 1.20\n",
      "Standardavvik: σ = Std(X) = 1.10\n"
     ]
    }
   ],
   "source": [
    "import numpy as np\n",
    "\n",
    "utfall = np.array([0, 1, 2, 3])\n",
    "sannsynlighet = np.array([0.5, 0.1, 0.3, 0.1])\n",
    "\n",
    "gjennomsnitt = sum(utfall*sannsynlighet)\n",
    "\n",
    "print(f\"μ = E(X) = {gjennomsnitt:.2f}\")\n",
    "\n",
    "varians = sum(sannsynlighet*(utfall - gjennomsnitt)**2)\n",
    "standardavvik = np.sqrt(varians)\n",
    "\n",
    "print(f'Varians: σ^2 = Var(X) = {varians:.2f}')\n",
    "print(f'Standardavvik: σ = Std(X) = {standardavvik:.2f}')\n"
   ]
  },
  {
   "cell_type": "code",
   "execution_count": null,
   "id": "1db83f87-2a90-4d09-9364-d544bd034590",
   "metadata": {},
   "outputs": [],
   "source": []
  }
 ],
 "metadata": {
  "kernelspec": {
   "display_name": "Python 3 (ipykernel)",
   "language": "python",
   "name": "python3"
  },
  "language_info": {
   "codemirror_mode": {
    "name": "ipython",
    "version": 3
   },
   "file_extension": ".py",
   "mimetype": "text/x-python",
   "name": "python",
   "nbconvert_exporter": "python",
   "pygments_lexer": "ipython3",
   "version": "3.8.13"
  }
 },
 "nbformat": 4,
 "nbformat_minor": 5
}
