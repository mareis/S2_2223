{
 "cells": [
  {
   "cell_type": "markdown",
   "id": "be6c4a72-5c0e-4c91-b313-4494684051f0",
   "metadata": {},
   "source": [
    "## Forventningsverdi\n",
    "\n",
    "fra frekvenstabell"
   ]
  },
  {
   "cell_type": "code",
   "execution_count": 27,
   "id": "07b41045-9c2d-4189-abc4-0e7a360dbe95",
   "metadata": {},
   "outputs": [
    {
     "name": "stdout",
     "output_type": "stream",
     "text": [
      "μ = E(X) tilnærmet lik 1.21\n"
     ]
    }
   ],
   "source": [
    "import numpy as np\n",
    "\n",
    "utfall = np.array([0, 1, 2, 3, 4])\n",
    "frekvens = np.array([215_778, 522_177, 270_179, 63_053, 16_618])\n",
    "\n",
    "gjennomsnitt = sum(utfall*frekvens)/sum(frekvens)\n",
    "\n",
    "print(f\"μ = E(X) tilnærmet lik {gjennomsnitt:.2f}\")"
   ]
  },
  {
   "cell_type": "markdown",
   "id": "b25d00a2-30a1-4ce9-9730-a18185eb39ac",
   "metadata": {},
   "source": [
    "## Varians og standardavvik\n",
    "\n",
    "fra fekvenstabell"
   ]
  },
  {
   "cell_type": "code",
   "execution_count": 38,
   "id": "97eb047b-1721-4d68-9a76-ee7b3573c234",
   "metadata": {},
   "outputs": [
    {
     "name": "stdout",
     "output_type": "stream",
     "text": [
      "Varians: σ^2 tilnærmet lik 0.77\n",
      "Standardavvik: σ tilnærmet lik 0.88\n"
     ]
    }
   ],
   "source": [
    "varians = sum(frekvens*(utfall - gjennomsnitt)**2)/sum(frekvens)\n",
    "\n",
    "print(f'Varians: σ^2 tilnærmet lik {varians:.2f}')\n",
    "print(f'Standardavvik: σ tilnærmet lik {np.sqrt(varians):.2f}')"
   ]
  },
  {
   "cell_type": "markdown",
   "id": "fd371b8e-82eb-4522-90cf-b7d14bed56b9",
   "metadata": {},
   "source": [
    "### Oppgave 2.18"
   ]
  },
  {
   "cell_type": "code",
   "execution_count": 46,
   "id": "b2806662-73b4-450a-8f8a-5dbd2b8e61b3",
   "metadata": {},
   "outputs": [
    {
     "name": "stdout",
     "output_type": "stream",
     "text": [
      "μ = E(X) tilnærmet lik 3.40\n",
      "Varians: σ^2 tilnærmet lik 1.77\n",
      "Standardavvik: σ tilnærmet lik 1.33\n"
     ]
    }
   ],
   "source": [
    "import numpy as np\n",
    "\n",
    "utfall = np.array([1, 2, 3, 4, 5, 6])\n",
    "frekvens = np.array([3, 4, 9, 8, 4, 2])\n",
    "\n",
    "gjennomsnitt = sum(utfall*frekvens)/sum(frekvens)\n",
    "\n",
    "print(f\"μ = E(X) tilnærmet lik {gjennomsnitt:.2f}\")\n",
    "\n",
    "varians = sum(frekvens*(utfall - gjennomsnitt)**2)/sum(frekvens)\n",
    "\n",
    "print(f'Varians: σ^2 tilnærmet lik {varians:.2f}')\n",
    "print(f'Standardavvik: σ tilnærmet lik {np.sqrt(varians):.2f}')\n"
   ]
  },
  {
   "cell_type": "code",
   "execution_count": null,
   "id": "a2f464a5-e808-40f9-b5ab-8db78a4e9814",
   "metadata": {},
   "outputs": [],
   "source": []
  }
 ],
 "metadata": {
  "kernelspec": {
   "display_name": "Python 3 (ipykernel)",
   "language": "python",
   "name": "python3"
  },
  "language_info": {
   "codemirror_mode": {
    "name": "ipython",
    "version": 3
   },
   "file_extension": ".py",
   "mimetype": "text/x-python",
   "name": "python",
   "nbconvert_exporter": "python",
   "pygments_lexer": "ipython3",
   "version": "3.8.13"
  }
 },
 "nbformat": 4,
 "nbformat_minor": 5
}
