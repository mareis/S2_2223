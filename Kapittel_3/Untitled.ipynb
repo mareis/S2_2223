{
 "cells": [
  {
   "cell_type": "code",
   "execution_count": 10,
   "id": "e450f6b0-7d14-4028-a0be-59ac870fcfab",
   "metadata": {},
   "outputs": [
    {
     "data": {
      "text/plain": [
       "array([-1.24444444e-02,  1.86666667e+00,  2.08846949e-23])"
      ]
     },
     "execution_count": 10,
     "metadata": {},
     "output_type": "execute_result"
    }
   ],
   "source": [
    "from scipy.optimize import curve_fit\n",
    "from sympy.solvers import solve\n",
    "from sympy import Symbol\n",
    "\n",
    "def f(x, a, b, c):\n",
    "    return a*x**2 + b*x + c\n",
    "\n",
    "\n",
    "xverdier = [0, 75, 150]\n",
    "yverdier = [0, 70, 0]\n",
    "\n",
    "popt, pcov = curve_fit(f, xverdier, yverdier)\n",
    "\n",
    "popt"
   ]
  },
  {
   "cell_type": "code",
   "execution_count": null,
   "id": "f7e9376a-cbd6-41a9-b804-a365016000a3",
   "metadata": {},
   "outputs": [],
   "source": [
    "solve"
   ]
  }
 ],
 "metadata": {
  "kernelspec": {
   "display_name": "Python 3 (ipykernel)",
   "language": "python",
   "name": "python3"
  },
  "language_info": {
   "codemirror_mode": {
    "name": "ipython",
    "version": 3
   },
   "file_extension": ".py",
   "mimetype": "text/x-python",
   "name": "python",
   "nbconvert_exporter": "python",
   "pygments_lexer": "ipython3",
   "version": "3.8.13"
  }
 },
 "nbformat": 4,
 "nbformat_minor": 5
}
